{
 "cells": [
  {
   "cell_type": "markdown",
   "metadata": {},
   "source": [
    "# 코드 업데이트 이력\n",
    "## 2022-10-26\n",
    "  * Shot별 대푯값에 대한 통계 데이터 저장 테이블 변경 사항 반영 : tbShotResult → tbShotStatistics\n",
    "  \n",
    "## 2022-10-31\n",
    "  * 전체 shot에 대한 유효 shot 도출 & 대푯값 추출 처리 개선\n",
    "    - 문제 현상 : DB에서 전체 shot no list를 가져온 후 machine id가 일치하는 shot을 검색하여 별도의 리스트에 담을 때 이유를 알 수 없지만 중간에 멈추는 현상이 발생하여, shot 정보를 추출할 수 없는 상황이 반복됨\n",
    "    - 처리 내용 : DB에서 전체 shot no list를 가져온 후 loop를 돌면서 machine id가 일치하는 shot에 대해 바로 유효 shot 도출 & 대푯값 추출 처리를 수행하도록 처리\n",
    "  * 데이터 추출 시 tbShotStatistics에 누적된 데이터가 있는 경우, 이후 shot에 대한 유효 shot 도출 & 대푯값 추출 처리 개선\n",
    "    - 문제 현상 : 마지막 shot 이후로 추출할 대상이 많은 경우(예를 들어 2개월분 데이터) \"SELECT DISTIINCT shot_no where~\" 절 사용 시 응답없음 수준으로 시간이 많이 소요됨\n",
    "    - 처리 내용 : DB에서 전체 shot no list를 가져온 후 loop를 돌면서 machine id가 일치하는 shot 중 마지막으로 대푯값을 추출한 shot 이후의 shot에 대해 유효 shot 도출 & 대푯값 추출 처리"
   ]
  },
  {
   "cell_type": "markdown",
   "metadata": {},
   "source": [
    "# 준비"
   ]
  },
  {
   "cell_type": "code",
   "execution_count": 376,
   "metadata": {
    "ExecuteTime": {
     "end_time": "2022-10-31T08:21:00.237122Z",
     "start_time": "2022-10-31T08:21:00.225409Z"
    }
   },
   "outputs": [],
   "source": [
    "import pandas as pd\n",
    "import numpy as np\n",
    "import os\n",
    "import sys\n",
    "import matplotlib.pyplot as plt\n",
    "import seaborn as sns\n",
    "import warnings\n",
    "import random\n",
    "import gc #garbage collector\n",
    "import joblib\n",
    "from sqlalchemy import create_engine\n",
    "warnings.filterwarnings('ignore')"
   ]
  },
  {
   "cell_type": "code",
   "execution_count": 377,
   "metadata": {
    "ExecuteTime": {
     "end_time": "2022-10-31T08:21:00.252154Z",
     "start_time": "2022-10-31T08:21:00.239125Z"
    }
   },
   "outputs": [],
   "source": [
    "warnings.filterwarnings('ignore')\n",
    "pd.set_option('display.max_columns', None)\n",
    "pd.set_option('display.max_row', 200)"
   ]
  },
  {
   "cell_type": "markdown",
   "metadata": {},
   "source": [
    "# 함수 정의"
   ]
  },
  {
   "cell_type": "markdown",
   "metadata": {},
   "source": [
    "## 일반"
   ]
  },
  {
   "cell_type": "markdown",
   "metadata": {},
   "source": [
    "### 컬럼 데이터 형변환 (64bit → 32bit)\n",
    " * 데이터 용량 줄이기 위한 용도"
   ]
  },
  {
   "cell_type": "code",
   "execution_count": 378,
   "metadata": {
    "ExecuteTime": {
     "end_time": "2022-10-31T08:21:00.267122Z",
     "start_time": "2022-10-31T08:21:00.254124Z"
    }
   },
   "outputs": [],
   "source": [
    "#주어진 dataframe에서 데이터 타입이 64bit인 경우 32bit로 변경하여 데이터 용량 축소\n",
    "def change_data_type_64bit_to_32bit(data):\n",
    "    data_type_names = list(data.columns.values)\n",
    "    \n",
    "    for col in data_type_names:\n",
    "        data_type = str(data[col].dtype)\n",
    "        \n",
    "        if data_type == 'int64':\n",
    "            data[col] = data[col].fillna(0).astype('int32')\n",
    "        elif data_type == 'float64':\n",
    "            data[col] = data[col].fillna(0).astype('float32')\n",
    "        #LJY_20220929 : 컬럼의 data type이 'object'인데 실제 값은 numeric인 경우 int32로 변환\n",
    "        # 추후 데이터 타입 판별로 변경 필요 (numeric인지 체크하는 api에서 datetime을 걸러내지 못해서 임시로 column name으로 체크하도록 처리)\n",
    "        else:\n",
    "            if col != \"datetime\" and col != \"date\":\n",
    "                data[col] = data[col].replace('\\\\0', 0)\n",
    "                data[col] = data[col].fillna(0).astype('int32')\n",
    "#                data[col] = (data[col].fillna(0).astype('int32').astype(object).where(data[col].notnull()))\n",
    "#                data[col] = data[col].notnull().astype('int32')\n",
    "    \n",
    "    data_type_names.clear()\n",
    "    del data_type_names"
   ]
  },
  {
   "cell_type": "markdown",
   "metadata": {},
   "source": [
    "### tool 정보 추출\n",
    " * 'tool_number' 필드에서 공구 정보를 추출하여 별도의 컬럼으로 구성"
   ]
  },
  {
   "cell_type": "code",
   "execution_count": 379,
   "metadata": {
    "ExecuteTime": {
     "end_time": "2022-10-31T08:21:00.282132Z",
     "start_time": "2022-10-31T08:21:00.270133Z"
    }
   },
   "outputs": [],
   "source": [
    "# tool 번호 및 상태 생성\n",
    "def extract_tool_info_from_data(data):\n",
    "    if 'tool_number' not in data.columns:\n",
    "        return\n",
    "    \n",
    "    if data['tool_number'] is np.NaN:\n",
    "        return\n",
    "    \n",
    "    data['tool_state'] = data['tool_number']%100\n",
    "    data['tool'] = (data['tool_number'] - data['tool_state'])/100\n",
    "    data['tool'] = data['tool'].astype(np.int32)"
   ]
  },
  {
   "cell_type": "markdown",
   "metadata": {},
   "source": [
    "### 유효한 모델 파일 저장 경로 생성\n",
    "  * 해당하는 폴더 또는 파일이 존재하지 않는 경우 \"\"를 반환"
   ]
  },
  {
   "cell_type": "code",
   "execution_count": 380,
   "metadata": {
    "ExecuteTime": {
     "end_time": "2022-10-31T08:21:00.297151Z",
     "start_time": "2022-10-31T08:21:00.284130Z"
    }
   },
   "outputs": [],
   "source": [
    "def make_valid_model_file_path(engine, model_name=\"Isolation Forest\", machine_id=22, tool_no=5,\n",
    "                               data_type_name='current_spindle', stat_type_name='data_mean'):\n",
    "    #설비 이름을 DB에서 조회\n",
    "    machine_name = get_machine_name_from_db(engine, machine_id)\n",
    "    \n",
    "    #설비 이름을 가져오지 못한 경우 아무 것도 하지 않고 return\n",
    "    if len(machine_name) < 1:\n",
    "        return \"\"\n",
    "    \n",
    "    #-----------------------------------------------------------------\n",
    "    # 모델 파일을 불러올 경로 생성 & 유효성 체크\n",
    "    path = \".\\model\"\n",
    "    if os.path.isdir(path) == False:\n",
    "        return \"\"\n",
    "    \n",
    "    path = path + \"\\\\\" + model_name\n",
    "    if os.path.isdir(path) == False:\n",
    "        return \"\"\n",
    "\n",
    "    path = path + \"\\\\\" + machine_name\n",
    "    if os.path.isdir(path) == False:\n",
    "        return \"\"\n",
    "\n",
    "    path = path + \"\\\\\" + \"Tool{0}\".format(tool_no)\n",
    "    if os.path.isdir(path) == False:\n",
    "        return \"\"\n",
    "    \n",
    "    stat_name = stat_type_name\n",
    "    stat_name = stat_name.replace('data_', '')\n",
    "    \n",
    "    path = path + \"\\\\\" + \"model_for_{0}_{1}.pkl\".format(data_type_name, stat_name)\n",
    "    print(path)\n",
    "    if os.path.isfile(path) == False:\n",
    "        return \"\"\n",
    "    #-----------------------------------------------------------------\n",
    "    \n",
    "    return path"
   ]
  },
  {
   "cell_type": "markdown",
   "metadata": {},
   "source": [
    "## 전처리 : 유효한 shot 정보 도출\n",
    " * 'shot_no' 필드 값을 기준으로 shot 구간 찾기\n",
    " * shot 구간 내부의 공구 사용 순서 및 각 공구 별 데이터 index 구간 도출\n",
    " * 공구 사용 순서에서 유효한 공구 사용 패턴 구간 찾기\n",
    " * 유효한 공구 사용 패턴 구간에 대해 numbering하여 별도의 'real_shot' 필드에 값 설정 (디폴트 : -1) "
   ]
  },
  {
   "cell_type": "markdown",
   "metadata": {},
   "source": [
    "### dataframe에 사용된 공구 순서 도출"
   ]
  },
  {
   "cell_type": "code",
   "execution_count": 381,
   "metadata": {
    "ExecuteTime": {
     "end_time": "2022-10-31T08:21:00.312133Z",
     "start_time": "2022-10-31T08:21:00.299132Z"
    }
   },
   "outputs": [],
   "source": [
    "#dataframe에 사용된 공구를 순서대로 추출해서 list형태로 반환\n",
    "def extract_tool_list(data, report_result=False):\n",
    "    import itertools\n",
    "\n",
    "    tool_list = []\n",
    "    #print([(k, (g)) for k, g in itertools.groupby(df_shot_specific['tool'])])\n",
    "    for k, g in itertools.groupby(data['tool']):\n",
    "        tool_list.append(k)\n",
    "\n",
    "    if report_result is True:\n",
    "        print(tool_list)\n",
    "    \n",
    "    return tool_list"
   ]
  },
  {
   "cell_type": "code",
   "execution_count": 382,
   "metadata": {
    "ExecuteTime": {
     "end_time": "2022-10-31T08:21:00.327152Z",
     "start_time": "2022-10-31T08:21:00.314123Z"
    }
   },
   "outputs": [],
   "source": [
    "#dataframe에 사용된 공구를 순서대로 추출해서 list형태로 반환\n",
    "def extract_tool_list_with_range(data, report_result=False):\n",
    "    import itertools\n",
    "\n",
    "    irow = 0\n",
    "    tool_list = []\n",
    "    range_list_of_tool = []\n",
    "    \n",
    "    #print([(k, (g)) for k, g in itertools.groupby(df_shot_specific['tool'])])\n",
    "    for k, g in itertools.groupby(data['tool']):\n",
    "        tool_list.append(k)\n",
    "        nrow = len(list(g))\n",
    "        range_list_of_tool.append((irow,irow+nrow-1))\n",
    "        irow += nrow\n",
    "\n",
    "    if report_result is True:\n",
    "        print(tool_list)\n",
    "        print(range_list_of_tool)\n",
    "    \n",
    "    return tool_list, range_list_of_tool"
   ]
  },
  {
   "cell_type": "code",
   "execution_count": 383,
   "metadata": {
    "ExecuteTime": {
     "end_time": "2022-10-31T08:21:00.342121Z",
     "start_time": "2022-10-31T08:21:00.329122Z"
    }
   },
   "outputs": [],
   "source": [
    "#dataframe에서 (1) 주어진 shot_no에 해당하는 데이터를 추출한 후, (2) 해당 데이터에 사용된 공구를 순서대로 가져와서 반환\n",
    "def extract_tool_list_of_specific_shot(data, shot_no, report_result=False):\n",
    "    df_shot = data[data['shot_no'] == shot_no]\n",
    "    \n",
    "    if report_result is True:\n",
    "        print(\"===== shot{0} ============================\\n\\n(1) dataframe -----------------\\n\".format(shot_no))\n",
    "        print(df_shot)\n",
    "        print(\"(2) used tool -----------------\\n\")\n",
    "        print(df_shot['tool'].unique())\n",
    "        print(\"(3) extract order using tools -----------------\\n\")\n",
    "    \n",
    "    tool_list = extract_tool_list(df_shot, report_result)\n",
    "    \n",
    "    del df_shot\n",
    "    \n",
    "    return tool_list"
   ]
  },
  {
   "cell_type": "code",
   "execution_count": 384,
   "metadata": {
    "ExecuteTime": {
     "end_time": "2022-10-31T08:21:00.357121Z",
     "start_time": "2022-10-31T08:21:00.344120Z"
    }
   },
   "outputs": [],
   "source": [
    "#dataframe에서 전체 shot에 대해 아래의 과정 수행\n",
    "#   - 각 shot 별로 사용된 공구 순서를 추출\n",
    "#   - shot & 공구 사용 순서정보를 column으로 하는 dataframe을 구성한 후 반환\n",
    "def extract_tool_list_of_all_shots(data, report_result=False):\n",
    "    data_type_names = ['shot_no', 'order_using_tool']\n",
    "    df_by_shot = pd.DataFrame(columns=data_type_names)\n",
    "    row = 0\n",
    "\n",
    "    for shot in df['shot_no'].unique():\n",
    "        tool_list = extract_tool_list_of_specific_shot(df, shot, report_result)\n",
    "        str_tool_list = ' '.join(map(str, tool_list))\n",
    "        df_by_shot.loc[row] = [shot, str_tool_list]\n",
    "        \n",
    "        del tool_list\n",
    "        \n",
    "        row += 1\n",
    "\n",
    "    print(df_by_shot)\n",
    "    \n",
    "    return df_by_shot"
   ]
  },
  {
   "cell_type": "markdown",
   "metadata": {},
   "source": [
    "### 유효 shot 구간 도출\n",
    " * 정상 공구 사용 패턴을 가지는 구간을 하나의 유효 shot으로 판별하고 별도의 column('real_shot')에 해당 numbering"
   ]
  },
  {
   "cell_type": "code",
   "execution_count": 385,
   "metadata": {
    "ExecuteTime": {
     "end_time": "2022-10-31T08:21:00.372146Z",
     "start_time": "2022-10-31T08:21:00.360122Z"
    }
   },
   "outputs": [],
   "source": [
    "def find_sub_list(sl,l):\n",
    "    results=[]\n",
    "    sll=len(sl)\n",
    "    for ind in (i for i,e in enumerate(l) if e==sl[0]):\n",
    "        if l[ind:ind+sll]==sl:\n",
    "            results.append((ind,ind+sll-1))\n",
    "\n",
    "    return results"
   ]
  },
  {
   "cell_type": "code",
   "execution_count": 386,
   "metadata": {
    "ExecuteTime": {
     "end_time": "2022-10-31T08:21:00.387147Z",
     "start_time": "2022-10-31T08:21:00.374122Z"
    }
   },
   "outputs": [],
   "source": [
    "#dataframe에서 (1) 주어진 shot_no에 해당하는 데이터를 추출한 후\n",
    "#(2) 해당 데이터에 사용된 공구 순서 및 각 공구 별 row index 범위를 순서대로 가져옴\n",
    "#(3) 정상 패턴 가공이 이루어지는 구간을 도출 (유효한 shot으로 판단할 수 있는 구간)\n",
    "#(4) (3)에서 찾은 구간 데이터의 'real_shot' 컬럼에 새로 shot numbering\n",
    "def find_and_mark_valid_shot_of_specific_shot(data, shot_no, real_shot_no, report_result=False):\n",
    "    df_shot = data[data['shot_no'] == shot_no]\n",
    "    \n",
    "    if report_result is True:\n",
    "        print(\"===== shot{0} ============================\\n\\n(1) dataframe -----------------\\n\".format(shot_no))\n",
    "        print(df_shot)\n",
    "        print(\"(2) used tool -----------------\\n\")\n",
    "        print(df_shot['tool'].unique())\n",
    "        print(\"(3) extract order using tools -----------------\\n\")\n",
    "    \n",
    "    tool_list, range_list_of_tool = extract_tool_list_with_range(df_shot, report_result=False)\n",
    "\n",
    "    tool_pattern = [1, 5, 9, 11, 7, 3, 11, 7]\n",
    "    sub_list = find_sub_list(tool_pattern, tool_list)\n",
    "    \n",
    "    if len(sub_list) < 1:\n",
    "        if report_result is True:\n",
    "            print(\"shot_no {0} of raw data : invalid_shot\".format(shot_no))\n",
    "\n",
    "        return 0\n",
    "    \n",
    "    if report_result is True:\n",
    "        print(sub_list)\n",
    "    \n",
    "    start_index = df_shot.index[0]\n",
    "    count = 0\n",
    "    \n",
    "    if report_result is True: \n",
    "        if sub_list[0][0] > 0:\n",
    "            print(\"------ invalid data\\n\")\n",
    "            print(data.iloc[start_index: start_index+range_list_of_tool[sub_list[0][0]][0]])\n",
    "        \n",
    "    for sub in sub_list:\n",
    "        real_shot_no += 1\n",
    "        sub_start = start_index + range_list_of_tool[sub[0]][0]\n",
    "        sub_end   = start_index + range_list_of_tool[sub[1]][1]\n",
    "        \n",
    "        if report_result is True:\n",
    "            print(\"sub({0}:{1}) - real_shot_no {2}\".format(sub_start, sub_end, real_shot_no))\n",
    "        \n",
    "        #========================================================================\n",
    "        #LJY_20220926 : iloc 함수를 사용하여 구간 access 후 값 설정 시 pandas ver.1.3.5 이후로(1.4.0부터) 동작하지 않던 오류 수정\n",
    "        #------------------------------------------------------------\n",
    "        #오류 : 기존에 작성된 코드\n",
    "        #data.iloc[sub_start:sub_end]['real_shot'] = real_shot_no\n",
    "        \n",
    "        #------------------------------------------------------------\n",
    "        #방법1 : column을 특정한 후 row index range 지정하여 값 설정\n",
    "        #data.real_shot.iloc[sub_start:sub_end] = real_shot_no\n",
    "        \n",
    "        #------------------------------------------------------------\n",
    "        #방법2 : row index range와 column index를 지정하여 값 설정\n",
    "        data.iloc[sub_start:sub_end+1, data.columns.get_loc('real_shot')] = real_shot_no\n",
    "        #========================================================================\n",
    "        \n",
    "        if report_result is True:\n",
    "            print(\"------ valid shot[{0}]\\n\".format(count))\n",
    "            print(data.iloc[sub_start:sub_end+1])\n",
    "            \n",
    "        count += 1\n",
    "    \n",
    "    tool_list.clear()\n",
    "    range_list_of_tool.clear()\n",
    "    sub_list.clear()\n",
    "    \n",
    "    del df_shot\n",
    "    \n",
    "    return count"
   ]
  },
  {
   "cell_type": "code",
   "execution_count": 387,
   "metadata": {
    "ExecuteTime": {
     "end_time": "2022-10-31T08:21:00.402144Z",
     "start_time": "2022-10-31T08:21:00.389120Z"
    }
   },
   "outputs": [],
   "source": [
    "#dataframe에서 유효한 공구 사용 패턴을 가지는 구간을 찾아서 별도의 컬럼('real_shot')에 새로 number 부여\n",
    "# - 유효하지 않은 구간의 경우 'real_shot' 값을 -1로 설정\n",
    "def find_and_mark_valid_shot(data, report_result=False):\n",
    "    real_shot_no = 0\n",
    "    \n",
    "    data['real_shot'] = -1\n",
    "    \n",
    "    for shot in data['shot_no'].unique():\n",
    "        real_shot_no += find_and_mark_valid_shot_of_specific_shot(data, shot, real_shot_no, report_result)\n",
    "        #print(real_shot_no)"
   ]
  },
  {
   "cell_type": "markdown",
   "metadata": {},
   "source": [
    "### 유효 shot 구간 내의 시작 부위의 유휴시간 데이터 삭제\n",
    " * 정상 공구 사용 패턴을 가지는 구간을 하나의 유효 shot으로 판별하고 별도의 column('real_shot')에 해당 numbering"
   ]
  },
  {
   "cell_type": "code",
   "execution_count": 388,
   "metadata": {
    "ExecuteTime": {
     "end_time": "2022-10-31T08:21:00.417128Z",
     "start_time": "2022-10-31T08:21:00.404120Z"
    }
   },
   "outputs": [],
   "source": [
    "#dataframe의 시작 부위의 idle section에 대한 'real_shot' 정보 초기화(값: -1)\n",
    "# => 실제 가공이 이루어진 유효한 구간을 찾아냄\n",
    "def remove_idle_section_at_the_start_of_valid_shot(data):\n",
    "    #print(data)\n",
    "    \n",
    "    #스핀들 전류값이 0보다 크면 가공이 이루어진 구간으로 판단하여 아무 처리하지 않고 return\n",
    "    if data.iloc[0]['current_spindle'] > 0:\n",
    "        return\n",
    "    \n",
    "    last_index_of_idle_section = data[data['current_spindle'] > 0].index[0]-1\n",
    "    \n",
    "    print(\"index : {}~{}\\n\".format(data.index[0], last_index_of_idle_section))\n",
    "    #print(data.loc[data.index[0]:last_index_of_idle_section])\n",
    "    data.loc[data.index[0]:last_index_of_idle_section, 'real_shot'] = -1 #idle 구간의 valid shot 정보 초기화\n",
    "    #print(data.loc[data.index[0]:last_index_of_idle_section])\n",
    "    return"
   ]
  },
  {
   "cell_type": "code",
   "execution_count": 389,
   "metadata": {
    "ExecuteTime": {
     "end_time": "2022-10-31T08:21:00.432144Z",
     "start_time": "2022-10-31T08:21:00.419135Z"
    }
   },
   "outputs": [],
   "source": [
    "#dataframe의 유효한 shot 구간('real_shot' != -1인 구간) 별로 시작 부위의 idle section에 대한 'real_shot' 정보 초기화(값: -1)\n",
    "# => 실제 가공이 이루어진 유효한 구간을 찾아냄\n",
    "def remove_idle_sections_at_the_start_of_valid_shots(data):\n",
    "    for shot in data['real_shot'].unique():\n",
    "        if shot < 0:\n",
    "            continue\n",
    "            \n",
    "#        df_by_shot = data[data['real_shot'] == shot]\n",
    "        \n",
    "#        if df_by_shot.iloc[0]['shot_no'] == 6517:\n",
    "#            print(df_by_shot)\n",
    "            \n",
    "#        print(df_by_shot)\n",
    "        index = data[data['real_shot'] == shot].index\n",
    "    \n",
    "        remove_idle_section_at_the_start_of_valid_shot(data.loc[index[0]:index[0]+len(index)-1])\n",
    "        \n",
    "        print(data.loc[index[0]:index[0]+len(index)-1])\n",
    "\n",
    "    return"
   ]
  },
  {
   "cell_type": "markdown",
   "metadata": {},
   "source": [
    "## 시각화"
   ]
  },
  {
   "cell_type": "code",
   "execution_count": 390,
   "metadata": {
    "ExecuteTime": {
     "end_time": "2022-10-31T08:21:00.462119Z",
     "start_time": "2022-10-31T08:21:00.434122Z"
    }
   },
   "outputs": [],
   "source": [
    "#dataframe에서 컬럼을 다중선택하여 데이터를 차트로 가시화\n",
    "#① data : dataframe 입력\n",
    "#② data_type_names : list 형태의 column명을 입력   ex) ['col1'], ['col1', 'col2'] \n",
    "#③ dataframe에서 특정 범위만을 선택해서 차트를 가시화 하려면 index_min 또는 index_max를 지정\n",
    "#   .. index_min : 디폴트값(-1)인 경우에는 데이터의 시작 row부터 포함됨\n",
    "#   ..  index_max : 디폴트값(-1)인 경우에는 데이터의 끝 row까지 포함됨\n",
    "#④ 차트 제목 표시 관련 설정\n",
    "#   .. title : 차트의 제목 문자열\n",
    "#   .. title_font_size : 차트의 제목을 표시할 font size\n",
    "#⑤ 차트 크기 설정\n",
    "#   .. figsize_horz, figsize_vert : 차트의 가로, 세로 크기\n",
    "#⑥ 범례 표시 관련 설정\n",
    "#   .. legend_font_size : 범례를 표시할 font size\n",
    "#   .. legend_location : 범례 표시 위치 (\"upper right\", \"lower right\", \"upper left\", \"lower left\")\n",
    "#⑦ 그래프 표현 관련 설정 : 선 or marker 표시\n",
    "#   .. linestyle : 선 스타일의 이름을 \"solid\", \"dashed\", \"dotted\", \"dashdot\"와 같은 형식으로 입력하거나 아래를 참고하여 입력\n",
    "'''\n",
    "'-'  solid line style\n",
    "'--' line style\n",
    "'-.' dash-dot line style\n",
    "':'  dotted line style\n",
    "'.'  point marker\n",
    "','  pixel marker\n",
    "'o'  circle marker\n",
    "'v'  triangle_down marker\n",
    "'^'  triangle_up marker\n",
    "'<'  triangle_left marker\n",
    "'>'  triangle_right marker\n",
    "'1'  tri_down marker\n",
    "'2'  tri_up marker\n",
    "'3'  tri_left marker\n",
    "'4'  tri_right marker\n",
    "'s'  square marker\n",
    "'p'  pentagon marker\n",
    "'*'  star marker\n",
    "'h'  hexagon1 marker\n",
    "'H'  hexagon2 marker\n",
    "'+'  plus marker\n",
    "'x'  x marker\n",
    "'D'  diamond marker\n",
    "'d'  thin_diamond marker\n",
    "'|'  vline marker\n",
    "'_'  hline marker\n",
    "'''\n",
    "#  .. marker : 아래를 참고하여 입력 ( https://matplotlib.org/stable/api/_as_gen/matplotlib.pyplot.plot.html)\n",
    "'''\n",
    "'.'  point marker\n",
    "','  pixel marker\n",
    "'o'  circle marker\n",
    "'v'  triangle_down marker\n",
    "'^'  triangle_up marker\n",
    "'<'  triangle_left marker\n",
    "'>'  triangle_right marker\n",
    "'1'  tri_down marker\n",
    "'2'  tri_up marker\n",
    "'3'  tri_left marker\n",
    "'4'  tri_right marker\n",
    "'8'  octagon marker\n",
    "'s'  square marker\n",
    "'p'  pentagon marker\n",
    "'P'  plus (filled) marker\n",
    "'*'  star marker\n",
    "'h'  hexagon1 marker\n",
    "'H'  hexagon2 marker\n",
    "'+'  plus marker\n",
    "'x'  x marker\n",
    "'X'  x (filled) marker\n",
    "'D'  diamond marker\n",
    "'d'  thin_diamond marker\n",
    "'|'  vline marker\n",
    "'_'  hline marker\n",
    "'''\n",
    "def show_plot(data, data_type_names, index_min = -1, index_max = -1, title = None, title_font_size=20,\n",
    "              x_axis_title = None, y_axis_title = None, axes_title_font_size=18, tick_label_font_size=15,\n",
    "              figsize_horz=20, figsize_vert=10, legend_font_size=15, legend_location=\"upper right\",\n",
    "              linestyle = 'none', marker='.', marker_size=10):\n",
    "    \n",
    "    parameters = { 'figure.titlesize':title_font_size, 'axes.titlesize': axes_title_font_size,\n",
    "                  'axes.labelsize' : tick_label_font_size, 'legend.fontsize' : legend_font_size }\n",
    "    plt.rcParams.update(parameters)\n",
    "    \n",
    "    plt.figure(figsize = (figsize_horz, figsize_vert))\n",
    "    \n",
    "    str_col_names = '{}'.format(','.join(data_type_names))#(f\"'{col}'\" for col in data_type_name))\n",
    "    print(str_col_names)\n",
    "    \n",
    "    if index_min > -1 and index_max > -1 and index_min < index_max:\n",
    "        for column in list(data_type_names):\n",
    "            plt.plot(data.index[index_min:index_max], data.iloc[index_min:index_max][column], marker=marker, linestyle=linestyle, markersize=marker_size)\n",
    "    elif index_min > -1:\n",
    "        for column in list(data_type_names):\n",
    "            plt.plot(data.index[index_min:], data.iloc[index_min:][column], marker=marker, linestyle=linestyle, markersize=marker_size)\n",
    "    elif index_max > -1:\n",
    "        for column in list(data_type_names):\n",
    "            plt.plot(data.index[:index_max], data.iloc[:index_max][column], marker=marker, linestyle=linestyles, markersize=marker_size)\n",
    "    else:\n",
    "        #str_col_names = ','.join('{0}'.format(col) for col in data_type_name)\n",
    "        for column in list(data_type_names):\n",
    "            plt.plot(data.index, data[column], marker=marker, linestyle=linestyle, markersize=marker_size)\n",
    "    \n",
    "    if title is not None:\n",
    "        plt.title(title)\n",
    "\n",
    "    plt.legend(data_type_names, loc = legend_location)\n",
    "    \n",
    "    if x_axis_title is not None:\n",
    "        plt.xlabel(x_axis_title)\n",
    "    if y_axis_title is not None:\n",
    "        plt.ylabel(y_axis_title)"
   ]
  },
  {
   "cell_type": "code",
   "execution_count": 391,
   "metadata": {
    "ExecuteTime": {
     "end_time": "2022-10-31T08:21:00.492140Z",
     "start_time": "2022-10-31T08:21:00.464119Z"
    }
   },
   "outputs": [],
   "source": [
    "#dataframe에서 컬럼을 다중선택하여 데이터를 차트로 가시화\n",
    "#① data : dataframe 입력\n",
    "#② data_type_name : 값을 관찰할 컬럼\n",
    "#③ condition_column : 조건 판별 대상 컬럼명  ex) 'state'\n",
    "#④ condition_values : 일치 여부 대상 value 목록  ex) [1], [0, 1]\n",
    "#⑤ dataframe에서 특정 범위만을 선택해서 차트를 가시화 하려면 index_min 또는 index_max를 지정\n",
    "#   .. index_min : 디폴트값(-1)인 경우에는 데이터의 시작 row부터 포함됨\n",
    "#   ..  index_max : 디폴트값(-1)인 경우에는 데이터의 끝 row까지 포함됨\n",
    "#⑥ 차트 제목 표시 관련 설정\n",
    "#   .. title : 차트의 제목 문자열\n",
    "#   .. title_font_size : 차트의 제목을 표시할 font size\n",
    "#⑦ 차트 크기 설정\n",
    "#   .. figsize_horz, figsize_vert : 차트의 가로, 세로 크기\n",
    "#⑧ 범례 표시 관련 설정\n",
    "#   .. legend_font_size : 범례를 표시할 font size\n",
    "#   .. legend_location : 범례 표시 위치 (\"upper right\", \"lower right\", \"upper left\", \"lower left\")\n",
    "#⑨ 그래프 표현 관련 설정 : 선 or marker 표시\n",
    "#   .. linestyle : 선 스타일의 이름을 \"solid\", \"dashed\", \"dotted\", \"dashdot\"와 같은 형식으로 입력하거나 아래를 참고하여 입력\n",
    "'''\n",
    "'-'  solid line style\n",
    "'--' line style\n",
    "'-.' dash-dot line style\n",
    "':'  dotted line style\n",
    "'.'  point marker\n",
    "','  pixel marker\n",
    "'o'  circle marker\n",
    "'v'  triangle_down marker\n",
    "'^'  triangle_up marker\n",
    "'<'  triangle_left marker\n",
    "'>'  triangle_right marker\n",
    "'1'  tri_down marker\n",
    "'2'  tri_up marker\n",
    "'3'  tri_left marker\n",
    "'4'  tri_right marker\n",
    "'s'  square marker\n",
    "'p'  pentagon marker\n",
    "'*'  star marker\n",
    "'h'  hexagon1 marker\n",
    "'H'  hexagon2 marker\n",
    "'+'  plus marker\n",
    "'x'  x marker\n",
    "'D'  diamond marker\n",
    "'d'  thin_diamond marker\n",
    "'|'  vline marker\n",
    "'_'  hline marker\n",
    "'''\n",
    "#  .. marker : 아래를 참고하여 입력 ( https://matplotlib.org/stable/api/_as_gen/matplotlib.pyplot.plot.html)\n",
    "'''\n",
    "'.'  point marker\n",
    "','  pixel marker\n",
    "'o'  circle marker\n",
    "'v'  triangle_down marker\n",
    "'^'  triangle_up marker\n",
    "'<'  triangle_left marker\n",
    "'>'  triangle_right marker\n",
    "'1'  tri_down marker\n",
    "'2'  tri_up marker\n",
    "'3'  tri_left marker\n",
    "'4'  tri_right marker\n",
    "'8'  octagon marker\n",
    "'s'  square marker\n",
    "'p'  pentagon marker\n",
    "'P'  plus (filled) marker\n",
    "'*'  star marker\n",
    "'h'  hexagon1 marker\n",
    "'H'  hexagon2 marker\n",
    "'+'  plus marker\n",
    "'x'  x marker\n",
    "'X'  x (filled) marker\n",
    "'D'  diamond marker\n",
    "'d'  thin_diamond marker\n",
    "'|'  vline marker\n",
    "'_'  hline marker\n",
    "'''\n",
    "def show_plot_comparing_data_by_condition(data, data_type_name, condition_column, condition_values, data_names = ('condition is true','condition is false'),\n",
    "                                           index_min = -1, index_max = -1, title = None, title_font_size=20,\n",
    "                                           x_axis_title = None, y_axis_title = None, axes_title_font_size=18,\n",
    "                                           tick_label_font_size=15, figsize_horz=20, figsize_vert=10,\n",
    "                                           legend_font_size=15, legend_location=\"upper right\", linestyle = 'none',\n",
    "                                           marker='.', marker_size=10):\n",
    "    \n",
    "    parameters = { 'figure.titlesize':title_font_size, 'axes.titlesize': axes_title_font_size,\n",
    "                  'axes.labelsize' : tick_label_font_size, 'legend.fontsize' : legend_font_size }\n",
    "    plt.rcParams.update(parameters)\n",
    "    \n",
    "    plt.figure(figsize = (figsize_horz, figsize_vert))\n",
    "    \n",
    "    condition_true_data = pd.DataFrame()\n",
    "    condition_false_data = pd.DataFrame()\n",
    "      \n",
    "    if index_min > -1 and index_max > -1 and index_min < index_max:\n",
    "        condition_true_data = data.iloc[index_min:index_max].query(data[condition_column].isin(condition_values))\n",
    "        condition_false_data = data.iloc[index_min:index_max].query(~data[condition_column].isin(condition_values))\n",
    "    elif index_min > -1:\n",
    "        condition_true_data = data.iloc[index_min:].query(data[condition_column].isin(condition_values))\n",
    "        condition_false_data = data.iloc[index_min:].query(~data[condition_column].isin(condition_values))        \n",
    "    elif index_max > -1:\n",
    "        condition_true_data = data.iloc[:index_max].query(data[condition_column].isin(condition_values))\n",
    "        condition_false_data = data.iloc[:index_max].query(~data[condition_column].isin(condition_values))        \n",
    "    else:\n",
    "        condition_true_data = data[data[condition_column].isin(condition_values)]\n",
    "        condition_false_data = data[~data[condition_column].isin(condition_values)]\n",
    "        \n",
    "    plt.plot(condition_true_data.index, condition_true_data[data_type_name], marker=marker, linestyle=linestyle, label=data_names[0], color='red', markersize=marker_size)\n",
    "    plt.plot(condition_false_data.index, condition_false_data[data_type_name], marker=marker, linestyle=linestyle, label=data_names[1], markersize=marker_size)\n",
    "    \n",
    "    if title is not None:\n",
    "        plt.title(title)\n",
    "\n",
    "    plt.legend(data_names, loc = legend_location)\n",
    "    \n",
    "    if x_axis_title is not None:\n",
    "        plt.xlabel(x_axis_title)\n",
    "    if y_axis_title is not None:\n",
    "        plt.ylabel(y_axis_title)"
   ]
  },
  {
   "cell_type": "markdown",
   "metadata": {},
   "source": [
    "## 모델 수립"
   ]
  },
  {
   "cell_type": "markdown",
   "metadata": {},
   "source": [
    "### 유효한 shot을 기준으로 주어진 공구에 대한 주어진 field의 대푯값을 계산하여 dataframe 구성"
   ]
  },
  {
   "cell_type": "code",
   "execution_count": 392,
   "metadata": {
    "ExecuteTime": {
     "end_time": "2022-10-31T08:21:00.507143Z",
     "start_time": "2022-10-31T08:21:00.494118Z"
    }
   },
   "outputs": [],
   "source": [
    "def delete_outliers(data, column):\n",
    "    Q1 = np.percentile(data[column], 25)\n",
    "    Q3 = np.percentile(data[column], 75)\n",
    "    IQR = Q3 - Q1\n",
    "\n",
    "    outlier_step = 1.5 * IQR\n",
    "    \n",
    "    print('Q1 = {}, Q3 = {}, IQR = {}, outlier_step = {}, range = ({}. {})'.format(Q1, Q3, IQR, outlier_step, Q1-outlier_step, Q3+outlier_step))\n",
    "\n",
    "    outlier_index = data[(data[column] < Q1) | (data[column] > Q3 + outlier_step)].index\n",
    "        \n",
    "    print(outlier_index)\n",
    "    \n",
    "    data.drop(outlier_index, inplace=True)"
   ]
  },
  {
   "cell_type": "code",
   "execution_count": 393,
   "metadata": {
    "ExecuteTime": {
     "end_time": "2022-10-31T08:21:00.522122Z",
     "start_time": "2022-10-31T08:21:00.509116Z"
    }
   },
   "outputs": [],
   "source": [
    "# 유효한 shot을 기준으로 주어진 공구에 대한 주어진 field의 대푯값을 계산하여  dataframe으로 구성\n",
    "def build_representative_data_for_tool_machining_org(data, tool_no, data_type_name, apply_robust_scaler=False, except_min_value=False, except_max_value=False, delete_outlier=False,\n",
    "                                                 delete_zero_value=False, except_tool_cancel_state=False, except_tool_end_state=False):\n",
    "    if data_type_name not in data.columns:\n",
    "        print(\"{} is not in columns\\nPlease input valid column name\".format(data_type_name))\n",
    "        return pd.DataFrame()\n",
    "    \n",
    "    condition = (data['tool']==tool_no) & (data['real_shot'] != -1)\n",
    "    \n",
    "    #LJY_20221005 : tool취소 상태 데이터 제거 옵션 추가\n",
    "    if except_tool_cancel_state is True:\n",
    "        condition = condition & (data['tool_state'] != 0)\n",
    "        \n",
    "    if except_tool_end_state is True:\n",
    "        condition = condition & (data['tool_state'] != 9)\n",
    "        \n",
    "    #df_tool = data[(data['tool']==tool_no) & (data['real_shot'] != -1)]\n",
    "    df_tool = data[condition]\n",
    "    if len(df_tool) < 1:\n",
    "        return pd.DataFrame()\n",
    "    \n",
    "    if delete_zero_value is True:\n",
    "        df_tool.drop(df_tool[df_tool[data_type_name] == 0].index, inplace=True)\n",
    "        \n",
    "    if delete_outlier is True:\n",
    "        print('before deleting outliers : {}'.format(len(df_tool.index)))\n",
    "        delete_outliers(df_tool, data_type_name)\n",
    "        print('after deleting outliers : {}'.format(len(df_tool.index)))\n",
    "    \n",
    "    if except_min_value is True:\n",
    "        min_value = df_tool[data_type_name].min()\n",
    "        df_tool.drop(df_tool[df_tool[data_type_name] == min_value].index, inplace=True)\n",
    "        \n",
    "    if except_max_value is True:\n",
    "        max_value = df_tool[data_type_name].max()\n",
    "        df_tool.drop(df_tool[df_tool[data_type_name] == max_value].index, inplace=True)\n",
    "    \n",
    "    if apply_robust_scaler is True:\n",
    "        from sklearn import metrics\n",
    "        #from sklearn.preprocessing import MinMaxScaler\n",
    "        #from sklearn.preprocessing import StandardScaler\n",
    "        from sklearn.preprocessing import RobustScaler\n",
    "        \n",
    "        rs = RobustScaler()\n",
    "        #ms = MinMaxScaler()\n",
    "        df_tool[[data_type_name]] = rs.fit_transform(df_tool[[data_type_name]])\n",
    "    \n",
    "    #real shot no.\n",
    "#    df_shot_no = df_tool['real_shot'].to_frame(name='real_shot')\n",
    "    group_by_shot = df_tool.groupby(['real_shot'])\n",
    "    #print(group_by_shot.groups.keys())\n",
    "    \n",
    "    #표준편차\n",
    "    df_std = (group_by_shot.std()[data_type_name].to_frame(name='std'))\n",
    "    #표준오차\n",
    "    df_sem = (group_by_shot.sem()[data_type_name].to_frame(name='sem'))\n",
    "    #합\n",
    "    df_sum = (group_by_shot.sum()[data_type_name].to_frame(name='sum'))\n",
    "    #평균\n",
    "    df_mean = (group_by_shot.mean()[data_type_name].to_frame(name='mean'))\n",
    "    #중앙값\n",
    "    df_median = (group_by_shot.median()[data_type_name].to_frame(name='median'))\n",
    "    #분산\n",
    "    df_var = (group_by_shot.var()[data_type_name].to_frame(name='var'))\n",
    "    #최대값\n",
    "    df_max = (group_by_shot.max()[data_type_name].to_frame(name='max')) \n",
    "    #0.25분위수\n",
    "    df_quantile_1_per_4 = (group_by_shot.quantile(0.25)[data_type_name].to_frame(name='quantile(0.25)')) \n",
    "    #0.75분위수\n",
    "    df_quantile_3_per_4 = (group_by_shot.quantile(0.75)[data_type_name].to_frame(name='quantile(0.75)')) \n",
    "    #왜도\n",
    "    df_skew = (group_by_shot.skew()[data_type_name].to_frame(name='skew')) \n",
    "\n",
    "    df_representative = pd.concat([df_mean, df_std, df_median, df_max, df_var, df_sem, df_sum, df_quantile_1_per_4, df_quantile_3_per_4, df_skew],axis=1)\n",
    "    \n",
    "    df_representative.set_index(pd.Series(group_by_shot.groups.keys()))\n",
    "    \n",
    "    return df_representative"
   ]
  },
  {
   "cell_type": "code",
   "execution_count": 394,
   "metadata": {
    "ExecuteTime": {
     "end_time": "2022-10-31T08:21:00.552147Z",
     "start_time": "2022-10-31T08:21:00.524121Z"
    }
   },
   "outputs": [],
   "source": [
    "# 유효한 shot을 기준으로 주어진 공구에 대한 주어진 field의 대푯값을 계산하여  dataframe으로 구성\n",
    "def build_representative_data_for_tool_machining(data, tool_no, data_type_name, machine_id=22, apply_robust_scaler=False, except_min_value=False, except_max_value=False, delete_outlier=False,\n",
    "                                                 delete_zero_value=False, except_tool_cancel_state=False, except_tool_end_state=False):\n",
    "    if data_type_name not in data.columns:\n",
    "        print(\"{} is not in columns\\nPlease input valid column name\".format(data_type_name))\n",
    "        return pd.DataFrame()\n",
    "    \n",
    "    condition = (data['tool']==tool_no) & (data['real_shot'] != -1)\n",
    "    \n",
    "    #LJY_20221005 : tool취소 상태 데이터 제거 옵션 추가\n",
    "    if except_tool_cancel_state is True:\n",
    "        condition = condition & (data['tool_state'] != 0)\n",
    "        \n",
    "    if except_tool_end_state is True:\n",
    "        condition = condition & (data['tool_state'] != 9)\n",
    "        \n",
    "    #df_tool = data[(data['tool']==tool_no) & (data['real_shot'] != -1)]\n",
    "    df_tool = data[condition]\n",
    "    if len(df_tool) < 1:\n",
    "        return pd.DataFrame()\n",
    "    \n",
    "    if delete_zero_value is True:\n",
    "        df_tool.drop(df_tool[df_tool[data_type_name] == 0].index, inplace=True)\n",
    "        \n",
    "    if delete_outlier is True:\n",
    "        print('before deleting outliers : {}'.format(len(df_tool.index)))\n",
    "        delete_outliers(df_tool, data_type_name)\n",
    "        print('after deleting outliers : {}'.format(len(df_tool.index)))\n",
    "    \n",
    "    if except_min_value is True:\n",
    "        min_value = df_tool[data_type_name].min()\n",
    "        df_tool.drop(df_tool[df_tool[data_type_name] == min_value].index, inplace=True)\n",
    "        \n",
    "    if except_max_value is True:\n",
    "        max_value = df_tool[data_type_name].max()\n",
    "        df_tool.drop(df_tool[df_tool[data_type_name] == max_value].index, inplace=True)\n",
    "    \n",
    "    if apply_robust_scaler is True:\n",
    "        from sklearn import metrics\n",
    "        #from sklearn.preprocessing import MinMaxScaler\n",
    "        #from sklearn.preprocessing import StandardScaler\n",
    "        from sklearn.preprocessing import RobustScaler\n",
    "        \n",
    "        rs = RobustScaler()\n",
    "        #ms = MinMaxScaler()\n",
    "        df_tool[[data_type_name]] = rs.fit_transform(df_tool[[data_type_name]])\n",
    "    \n",
    "    #real shot no.\n",
    "#    df_shot_no = df_tool['real_shot'].to_frame(name='real_shot')\n",
    "    group_by_shot = df_tool.groupby(['real_shot'])\n",
    "    #print(group_by_shot.groups.keys())\n",
    "    \n",
    "    #표준편차\n",
    "    df_std = (group_by_shot.std()[data_type_name].to_frame(name='data_std'))\n",
    "    #표준오차\n",
    "    df_sem = (group_by_shot.sem()[data_type_name].to_frame(name='data_sem'))\n",
    "    #합\n",
    "    df_sum = (group_by_shot.sum()[data_type_name].to_frame(name='data_sum'))\n",
    "    #평균\n",
    "    df_mean = (group_by_shot.mean()[data_type_name].to_frame(name='data_mean'))\n",
    "    #중앙값\n",
    "    df_median = (group_by_shot.median()[data_type_name].to_frame(name='data_median'))\n",
    "    #분산\n",
    "    df_var = (group_by_shot.var()[data_type_name].to_frame(name='data_var'))\n",
    "    #최대값\n",
    "    df_max = (group_by_shot.max()[data_type_name].to_frame(name='data_max')) \n",
    "    #0.25분위수\n",
    "    df_quantile_1_per_4 = (group_by_shot.quantile(0.25)[data_type_name].to_frame(name='data_quantitle_1_per_4')) \n",
    "    #0.75분위수\n",
    "    df_quantile_3_per_4 = (group_by_shot.quantile(0.75)[data_type_name].to_frame(name='data_quantitle_3_per_4')) \n",
    "    #왜도\n",
    "    df_skew = (group_by_shot.skew()[data_type_name].to_frame(name='data_skew')) \n",
    "\n",
    "    df_representative = pd.concat([df_mean, df_std, df_median, df_max, df_var, df_sem, df_sum, df_quantile_1_per_4, df_quantile_3_per_4, df_skew],axis=1)\n",
    "    \n",
    "    df_representative['date'] = group_by_shot.first()['date']\n",
    "    df_representative['datetime'] = group_by_shot.first()['datetime']\n",
    "    df_representative['shot_no'] = group_by_shot.first()['shot_no']\n",
    "    df_representative['shot_no_sub'] = group_by_shot.groups.keys()\n",
    "    df_representative['mc_id'] = machine_id\n",
    "    df_representative['tool_number'] = tool_no\n",
    "    #df_representative.rename(columns = {'real_shot' : 'shot_no_sub'}, inplace = True)\n",
    "    #df_representative.set_index(pd.Series(group_by_shot.groups.keys()))\n",
    "    \n",
    "    df_representative.reset_index(drop=True,inplace=True)\n",
    "    \n",
    "    change_data_type_64bit_to_32bit(df_representative) #데이터 타입 32bit로 변환\n",
    "    \n",
    "    return df_representative"
   ]
  },
  {
   "cell_type": "markdown",
   "metadata": {},
   "source": [
    "### 주어진 공구의 주어진 필드에 대한 valid shot 별 대푯값 도출 & 시각화"
   ]
  },
  {
   "cell_type": "code",
   "execution_count": 395,
   "metadata": {
    "ExecuteTime": {
     "end_time": "2022-10-31T08:21:00.567117Z",
     "start_time": "2022-10-31T08:21:00.554121Z"
    }
   },
   "outputs": [],
   "source": [
    "#representative_value_types : 'std', 'sem', 'sum', 'mean', 'median', 'var', 'max', 'quantile(0.25)', 'quantile(0.75)', 'skew'를 리스트 형태로 입력\n",
    "#  ex) ['std', 'mean']\n",
    "def build_and_display_representative_data_for_tool_machining(data, tool_no, data_type_name, representative_value_types, apply_robust_scaler=False, except_min_value=False, except_max_value=False):\n",
    "    df_representative = build_representative_data_for_tool_machining(data, tool_no, data_type_name, apply_robust_scaler, except_min_value, except_max_value)\n",
    "    show_plot(df_representative, representative_value_types, title = data_type_name, x_axis_title='real shot no.', y_axis_title='representatives')"
   ]
  },
  {
   "cell_type": "markdown",
   "metadata": {},
   "source": [
    "## 이상탐지"
   ]
  },
  {
   "cell_type": "markdown",
   "metadata": {},
   "source": [
    "### IsolationForest 활용"
   ]
  },
  {
   "cell_type": "code",
   "execution_count": 396,
   "metadata": {
    "ExecuteTime": {
     "end_time": "2022-10-31T08:21:00.582141Z",
     "start_time": "2022-10-31T08:21:00.569118Z"
    }
   },
   "outputs": [],
   "source": [
    "#dataframe을 입력하여 model로부터 threshold 값 계산\n",
    "def run_anomaly_detaction_by_IsolationForest_org(model, data, stat_type_name='data_mean'):\n",
    "    anomaly_score = model.decision_function(data[[stat_type_name]])\n",
    "    outlier = model.predict(data[[stat_type_name]])\n",
    "    data['outliers'] = pd.Series(model.predict(data[[stat_type_name]])).apply(lambda x: 1 if x == -1 else 0)\n",
    "    data['anomaly_score'] = anomaly_score"
   ]
  },
  {
   "cell_type": "code",
   "execution_count": 397,
   "metadata": {
    "ExecuteTime": {
     "end_time": "2022-10-31T08:21:00.597116Z",
     "start_time": "2022-10-31T08:21:00.585121Z"
    }
   },
   "outputs": [],
   "source": [
    "#dataframe을 입력하여 model로부터 threshold 값 계산\n",
    "def run_anomaly_detaction_by_IsolationForest(model, data, stat_type_name='data_mean'):\n",
    "    anomaly_score = model.decision_function(data[[stat_type_name]])\n",
    "    outlier = model.predict(data[[stat_type_name]])\n",
    "    data['outliers'] = pd.Series(model.predict(data[[stat_type_name]])).apply(lambda x: 1 if x == -1 else 0)\n",
    "    data['anomaly_score'] = anomaly_score"
   ]
  },
  {
   "cell_type": "code",
   "execution_count": 398,
   "metadata": {
    "ExecuteTime": {
     "end_time": "2022-10-31T08:21:00.612119Z",
     "start_time": "2022-10-31T08:21:00.600117Z"
    }
   },
   "outputs": [],
   "source": [
    "#dataframe을 입력하여 model로부터 threshold 값 계산\n",
    "def calculate_threshold_value_by_IsolationForest(model, data, stat_type_name='data_mean'):\n",
    "    run_anomaly_detaction_by_IsolationForest(model, data, stat_type_name)\n",
    "    \n",
    "    #value_range = data[stat_type_name].max() - data[stat_type_name].min()\n",
    "\n",
    "    threshold_value = min(data.query('outliers == 1')[stat_type_name])# + value_range * model.get_params()['contamination']\n",
    "\n",
    "    return threshold_value"
   ]
  },
  {
   "cell_type": "code",
   "execution_count": 399,
   "metadata": {
    "ExecuteTime": {
     "end_time": "2022-10-31T08:21:00.628116Z",
     "start_time": "2022-10-31T08:21:00.614116Z"
    }
   },
   "outputs": [],
   "source": [
    "# he offsetis defined in such a way we obtain the expected number of outliers (samples with decision function < 0) in training.\n",
    "def update_IsolationForest_model_for_anomaly_detaction(data, machine_id=22, tool_no=5, data_type_name='current_spindle', stat_type_name='data_mean', save_model=False):\n",
    "    model = IsolationForest(random_state = 42, contamination = 0.004 , n_estimators = 500, max_samples = 90, n_jobs = -1, bootstrap = True)\n",
    "    model.fit(data[[stat_type_name]])\n",
    "    \n",
    "    calculate_threshold_value_by_IsolationForest(model, data, stat_name)\n",
    "        \n",
    "    #threshold값을 DB에 저장\n",
    "    put_threshold_data_from_db_by_data_type_name(engine, threshold_value, machine_id=machine_id, tool_no=tool_no, data_type_name=data_type_name, stat_type_name=stat_type_name)\n",
    "   \n",
    "    if save_model is False:\n",
    "        return model\n",
    "    \n",
    "    import pickle\n",
    "    import joblib\n",
    "    model_path = make_valid_model_file_path(engine, model_name='Isolation Forest', machine_id=machine_id, tool_no=tool_no, data_type_name=data_type_name, stat_type_name=stat_type_name)\n",
    "    \n",
    "    if len(model_path) < 1:\n",
    "        return model\n",
    "    \n",
    "    joblib.dump(model, model_path)\n",
    "    return model"
   ]
  },
  {
   "cell_type": "markdown",
   "metadata": {},
   "source": [
    "## DB 연동 처리 (sqlalchemy 활용)\n",
    "  * DB에서 데이터 불러오기 테스트 결과 가장 효율적인 모듈인 sqlalchemy 활용"
   ]
  },
  {
   "cell_type": "markdown",
   "metadata": {},
   "source": [
    "### DB 연결"
   ]
  },
  {
   "cell_type": "code",
   "execution_count": 400,
   "metadata": {
    "ExecuteTime": {
     "end_time": "2022-10-31T08:21:00.643118Z",
     "start_time": "2022-10-31T08:21:00.630118Z"
    }
   },
   "outputs": [],
   "source": [
    "#DB Connection\n",
    "def connect_db(dbIP = '112.220.81.163', dbID = 'DEASHIN_SIGNAL', dbPW = 'DEASHIN_SIGNAL', dbPort = 9933, dbName = 'DAESHIN_CLIVE'):\n",
    "    engine = create_engine(\"mysql://{user}:{pw}@{host}:{port}/{db}\".format(user=dbID, pw=dbPW, host=dbIP, port=dbPort, db=dbName))\n",
    "        \n",
    "    return engine"
   ]
  },
  {
   "cell_type": "markdown",
   "metadata": {},
   "source": [
    "### 설비 정보 조회"
   ]
  },
  {
   "cell_type": "code",
   "execution_count": 401,
   "metadata": {
    "ExecuteTime": {
     "end_time": "2022-10-31T08:21:00.658145Z",
     "start_time": "2022-10-31T08:21:00.645116Z"
    }
   },
   "outputs": [],
   "source": [
    "#설비 이름을 반환\n",
    "def get_machine_name_from_db(engine, machine_id=22):\n",
    "    table = pd.read_sql_query(\"SELECT * FROM tbMachine WHERE n_MC_ID = {0}\".format(machine_id), engine)\n",
    "    \n",
    "    machine_name = \"\"\n",
    "    \n",
    "    if len(table) > 0:\n",
    "        machine_name = table.iloc[0]['s_MC_No']\n",
    "        del table\n",
    "        gc.collect()\n",
    "    \n",
    "    return machine_name"
   ]
  },
  {
   "cell_type": "markdown",
   "metadata": {},
   "source": [
    "### mc_id(설비 ID)가 주어진 machine_id인 shot_no list 추출"
   ]
  },
  {
   "cell_type": "markdown",
   "metadata": {},
   "source": [
    "#### 주어진 shot_no가 주어진 machine의 데이터인지 체크"
   ]
  },
  {
   "cell_type": "code",
   "execution_count": 402,
   "metadata": {
    "ExecuteTime": {
     "end_time": "2022-10-31T08:21:00.673117Z",
     "start_time": "2022-10-31T08:21:00.660118Z"
    }
   },
   "outputs": [],
   "source": [
    "#주어진 shot_no의 데이터의 machine id가 machine_id와 동일한지 DB를 이용하여 체크\n",
    "def check_machine_id_for_shot_no(engine, shot_no, machine_id=22, report_result=False):\n",
    "    table = pd.read_sql_query('SELECT mc_id FROM TPOP_MACHINE_PARAMETER where shot_no = {0} LIMIT 1'.format(shot_no), engine)\n",
    "    if len(table) < 1:\n",
    "        return False\n",
    "    \n",
    "    shot_mc_id = table.iloc[0]['mc_id']\n",
    "    \n",
    "    del table\n",
    "    gc.collect()\n",
    "    \n",
    "    if shot_mc_id != machine_id:\n",
    "        return False\n",
    "    \n",
    "    if report_result is True:\n",
    "        print('machine id of shot({0}) : {1}'.format(shot_no, shot_mc_id))\n",
    "        \n",
    "    return True"
   ]
  },
  {
   "cell_type": "markdown",
   "metadata": {},
   "source": [
    "#### 설비 신호 데이터 테이블(TPOP_MACHINE_PARAMETER)에서 shot_no list 추출"
   ]
  },
  {
   "cell_type": "code",
   "execution_count": 403,
   "metadata": {
    "ExecuteTime": {
     "end_time": "2022-10-31T08:21:00.688143Z",
     "start_time": "2022-10-31T08:21:00.677118Z"
    }
   },
   "outputs": [],
   "source": [
    "#DB의 TPOP_MACHINE_PARAMETER 테이블에 저장된 shot_no list 추출\n",
    "def get_shot_no_list_from_db(engine):\n",
    "    table = pd.read_sql_query('SELECT DISTINCT shot_no FROM TPOP_MACHINE_PARAMETER ORDER BY shot_no', engine)\n",
    "    table=table.dropna(subset=['shot_no'])\n",
    "    index = table[table['shot_no'] == 0].index\n",
    "    table.drop(index , inplace=True)\n",
    "    return table['shot_no'].to_list()"
   ]
  },
  {
   "cell_type": "markdown",
   "metadata": {},
   "source": [
    "#### 설비 신호 데이터 테이블(TPOP_MACHINE_PARAMETER)에서 machine_id가 일치하는 shot_no list 추출"
   ]
  },
  {
   "cell_type": "code",
   "execution_count": 404,
   "metadata": {
    "ExecuteTime": {
     "end_time": "2022-10-31T08:21:00.703143Z",
     "start_time": "2022-10-31T08:21:00.690116Z"
    }
   },
   "outputs": [],
   "source": [
    "#DB의 TPOP_MACHINE_PARAMETER 테이블에 저장된 shot_no list 추출\n",
    "def get_shot_no_list_by_machine_id_from_db(engine, machine_id=22, report_result=False):\n",
    "    #TPOP_MACHINE_PARAMETER 테이블의 shot_no list 전체 가져오기\n",
    "    all_shot_no = get_shot_no_list_from_db(engine)\n",
    "\n",
    "    if len(all_shot_no) < 1:\n",
    "        return all_shot_no\n",
    "\n",
    "    shot_no_by_machine_id = []\n",
    "    res = False\n",
    "    \n",
    "    count = 0\n",
    "    \n",
    "    for shot_no in all_shot_no:\n",
    "        #shot_no에 해당하는 shot의 machine id가 주어진 machine_id와 일치하는지 체크\n",
    "        res = check_machine_id_for_shot_no(engine, shot_no, machine_id=machine_id, report_result=report_result)\n",
    "\n",
    "        #shot의 mc_id가 machine_id와 일치하는 경우에만 별도의 list에 추가\n",
    "        if res is True:\n",
    "            shot_no_by_machine_id.append(shot_no)\n",
    "        \n",
    "        print(\"loop {0}, shot_no {1} # of shot = {2}\".format(count, shot_no, len(shot_no_by_machine_id)))\n",
    "        count += 1\n",
    "    \n",
    "    print(shot_no_by_machine_id)#temp\n",
    "    all_shot_no.clear()\n",
    "    \n",
    "    #주어진 machine_id에 해당하는 shot_no list 반환\n",
    "    return shot_no_by_machine_id"
   ]
  },
  {
   "cell_type": "markdown",
   "metadata": {},
   "source": [
    "### 유효 shot 도출 & 대푯값 산출한 마지막 shot 이후의 shot_no 목록 추출\n",
    "  * 용도 : 마지막으로 저장된 shot 이후의 데이터에 대해서 대푯값을 추출하여 저장하기 위함\n",
    "  * 특정 시점에 기능을 실행했을 때 최신 데이터에 대해 유효 shot 구간 도출 & 대푯값 산출 결과를 저장할 수 있도록 함"
   ]
  },
  {
   "cell_type": "markdown",
   "metadata": {},
   "source": [
    "#### 대푯값 저장 table(tbShotStatistics)에서 mc_id(설비 ID), tool_number(공구 번호) 기준으로 마지막 shot 정보 가져오기"
   ]
  },
  {
   "cell_type": "code",
   "execution_count": 405,
   "metadata": {
    "ExecuteTime": {
     "end_time": "2022-10-31T08:21:00.718126Z",
     "start_time": "2022-10-31T08:21:00.705113Z"
    }
   },
   "outputs": [],
   "source": [
    "def get_last_shot_info_at_shot_statistics_db(engine, machine_id=22, tool_no=5):\n",
    "    table = pd.read_sql_query('SELECT datetime, shot_no, shot_no_sub, mc_id, tool_number\\\n",
    "                            FROM tbShotStatistics where mc_id={0} and tool_number={1} ORDER BY\\\n",
    "                            shot_no DESC, shot_no_sub DESC LIMIT 1'.format(machine_id, tool_no), engine)\n",
    "    return table"
   ]
  },
  {
   "cell_type": "markdown",
   "metadata": {},
   "source": [
    "#### 설비 신호 데이터 테이블(TPOP_MACHINE_PARAMETER)에서 주어진 시간, shot_no 이후의 shot_no list 추출"
   ]
  },
  {
   "cell_type": "code",
   "execution_count": 406,
   "metadata": {
    "ExecuteTime": {
     "end_time": "2022-10-31T08:21:00.733113Z",
     "start_time": "2022-10-31T08:21:00.720114Z"
    }
   },
   "outputs": [],
   "source": [
    "#DB의 TPOP_MACHINE_PARAMETER 테이블에 저장된 shot_no list 추출\n",
    "def get_shot_no_list_from_db_after_given_datetime_and_shot_no(engine, datetime, prev_shot_no, machine_id=22):\n",
    "    table = pd.read_sql_query(\"SELECT DISTINCT shot_no FROM TPOP_MACHINE_PARAMETER WHERE datetime > '{0}' AND mc_id = {1} AND shot_no > {2}\".format(datetime, machine_id, prev_shot_no), engine)\n",
    "    return table['shot_no'].to_list()"
   ]
  },
  {
   "cell_type": "markdown",
   "metadata": {},
   "source": [
    "### 설비 신호 데이터 테이블(TPOP_MACHINE_PARAMETER)에서  주어진 shot_no, machine_id에 해당하는 데이터 추출"
   ]
  },
  {
   "cell_type": "code",
   "execution_count": 407,
   "metadata": {
    "ExecuteTime": {
     "end_time": "2022-10-31T08:21:00.748142Z",
     "start_time": "2022-10-31T08:21:00.735116Z"
    }
   },
   "outputs": [],
   "source": [
    "def get_shot_data_from_db(engine, shot_no, columns, machine_id=22, report_result=False):\n",
    "    strcolumn = ', '.join(map(str, columns))\n",
    "\n",
    "    query = \"SELECT date, datetime, shot_no, tool_number, {0} from TPOP_MACHINE_PARAMETER WHERE shot_no = {1} and mc_id = {2}\".format(strcolumn, shot_no, machine_id)\n",
    "    table = pd.read_sql_query(query, engine)\n",
    "    \n",
    "    if len(table) < 1:\n",
    "        return table\n",
    "\n",
    "    table = table.drop(table[table['tool_number'] == -1].index)\n",
    "    change_data_type_64bit_to_32bit(table)\n",
    "    \n",
    "    extract_tool_info_from_data(table)\n",
    "    \n",
    "    if report_result is True:\n",
    "        print(\"(1) shot_no : {0}\\n (2) machine_id : {1} \\n(3) data \\n\".format(shot_no, machine_id))\n",
    "        print(\"----- dataframe info.\\n{}\\n\\n----- data\\n\",format(table.info()))\n",
    "        print(table)\n",
    "    \n",
    "    return table"
   ]
  },
  {
   "cell_type": "markdown",
   "metadata": {},
   "source": [
    "### tbShotStatistics 테이블에서 주어진 machine_id, tool_no에 대한 데이터를 추출하여 dataframe 구성"
   ]
  },
  {
   "cell_type": "code",
   "execution_count": 408,
   "metadata": {
    "ExecuteTime": {
     "end_time": "2022-10-31T08:21:00.763142Z",
     "start_time": "2022-10-31T08:21:00.750116Z"
    }
   },
   "outputs": [],
   "source": [
    "#data_type : 대표값 데이터 타입 (current_spindle : 0, current_x = 1, current_z = 2)\n",
    "def get_all_shot_statistics_data_from_db(engine, machine_id=22, tool_no=5, data_type=0, report_result=False):\n",
    "    import pandas as pd\n",
    "\n",
    "    query = \"SELECT * from tbShotStatistics WHERE mc_id = {0} and tool_number = {1} and data_type = {2} ORDER BY datetime\".format(machine_id, tool_no, data_type)\n",
    "    \n",
    "    if report_result is True:\n",
    "        print(query)\n",
    "        \n",
    "    table = pd.read_sql_query(query, engine)#, index_col='datetime')\n",
    "    \n",
    "    table.reset_index()\n",
    "    \n",
    "    if report_result is True:\n",
    "        print(table)\n",
    "    \n",
    "    return table"
   ]
  },
  {
   "cell_type": "code",
   "execution_count": 409,
   "metadata": {
    "ExecuteTime": {
     "end_time": "2022-10-31T08:21:00.778112Z",
     "start_time": "2022-10-31T08:21:00.765136Z"
    }
   },
   "outputs": [],
   "source": [
    "#data_type : 대표값 데이터 타입 (current_spindle : 0, current_x = 1, current_z = 2)\n",
    "def get_all_shot_statistics_data_from_db_by_data_type_name(engine, machine_id=22, tool_no=5, data_type_name = 'current_spindle', report_result=False):\n",
    "    data_type = 0\n",
    "    \n",
    "    if data_type_name == 'current_spindle':\n",
    "        data_type = 0\n",
    "    elif data_type_name == 'current_x':\n",
    "        data_type = 1\n",
    "    elif data_type_name == 'current_z':\n",
    "        data_type = 2\n",
    "    else:\n",
    "        return pd.DataFrame()\n",
    "    \n",
    "    return get_all_shot_statistics_data_from_db(engine, machine_id, tool_no, data_type, report_result)"
   ]
  },
  {
   "cell_type": "code",
   "execution_count": 410,
   "metadata": {
    "ExecuteTime": {
     "end_time": "2022-10-31T08:21:00.793141Z",
     "start_time": "2022-10-31T08:21:00.780116Z"
    }
   },
   "outputs": [],
   "source": [
    "#data_type : 대표값 데이터 타입 (current_spindle : 0, current_x = 1, current_z = 2)\n",
    "def get_all_shot_specific_statistic_data_from_db(engine, machine_id=22, tool_no=5, data_type=0, stat_type_name ='data_mean', report_result=False):\n",
    "    import pandas as pd\n",
    "\n",
    "    query = \"SELECT date, datetime, mc_id, tool_number, shot_no, shot_no_sub, data_type, {0} from tbShotStatistics WHERE mc_id = {1} and tool_number = {2} and data_type = {3} ORDER BY datetime\".format(stat_type_name, machine_id, tool_no, data_type)\n",
    "    \n",
    "    if report_result is True:\n",
    "        print(query)\n",
    "        \n",
    "    table = pd.read_sql_query(query, engine)#, index_col='datetime')\n",
    "    \n",
    "    table.reset_index()\n",
    "    \n",
    "    if report_result is True:\n",
    "        print(table)\n",
    "    \n",
    "    return table"
   ]
  },
  {
   "cell_type": "code",
   "execution_count": 411,
   "metadata": {
    "ExecuteTime": {
     "end_time": "2022-10-31T08:21:00.808142Z",
     "start_time": "2022-10-31T08:21:00.796112Z"
    }
   },
   "outputs": [],
   "source": [
    "#data_type : 대표값 데이터 타입 (current_spindle : 0, current_x = 1, current_z = 2)\n",
    "def get_all_shot_specific_statistic_data_from_db_by_data_type_name(engine, machine_id=22, tool_no=5, data_type_name = 'current_spindle',\n",
    "                                                                stat_type_name ='data_mean', report_result=False):\n",
    "    data_type = 0\n",
    "    \n",
    "    if data_type_name == 'current_spindle':\n",
    "        data_type = 0\n",
    "    elif data_type_name == 'current_x':\n",
    "        data_type = 1\n",
    "    elif data_type_name == 'current_z':\n",
    "        data_type = 2\n",
    "    else:\n",
    "        return pd.DataFrame()\n",
    "    \n",
    "    return get_all_shot_specific_statistic_data_from_db(engine, machine_id, tool_no, data_type, stat_type_name, report_result)"
   ]
  },
  {
   "cell_type": "markdown",
   "metadata": {},
   "source": [
    "### valid shot 별로 대푯값을 추출하여 tbShotStatistics 테이블 업데이트"
   ]
  },
  {
   "cell_type": "code",
   "execution_count": 412,
   "metadata": {
    "ExecuteTime": {
     "end_time": "2022-10-31T08:21:00.823140Z",
     "start_time": "2022-10-31T08:21:00.811115Z"
    }
   },
   "outputs": [],
   "source": [
    "def update_shot_statistics_db(engine, df_shot, tool_no, column, machine_id=22):\n",
    "    #유효shot 별로 대푯값 추출\n",
    "    df_representative = build_representative_data_for_tool_machining(df_shot, tool_no, column, apply_robust_scaler=False, except_min_value=False, except_max_value=False, except_tool_cancel_state=False, except_tool_end_state=False)\n",
    "    \n",
    "    if len(df_representative) < 1:\n",
    "        return\n",
    "    \n",
    "    #데이터 타입 판별 (우선 3개의 필드에 대해서만 판별)\n",
    "    if column == \"current_spindle\":\n",
    "        df_representative['data_type'] = 0\n",
    "    elif column == \"current_x\":\n",
    "        df_representative['data_type'] = 1\n",
    "    elif column == \"current_z\":\n",
    "        df_representative['data_type'] = 2\n",
    "    \n",
    "    #DB에 데이터 추가\n",
    "    df_representative.to_sql('tbShotStatistics', con=engine, if_exists='append', index=False)\n",
    "    \n",
    "    del df_representative\n",
    "    gc.collect()"
   ]
  },
  {
   "cell_type": "markdown",
   "metadata": {},
   "source": [
    "### 주어진 shot에 대해 유효 shot 구간 도출 및 대푯값 추출 후 tbShotResult 테이블 업데이트"
   ]
  },
  {
   "cell_type": "code",
   "execution_count": 413,
   "metadata": {
    "ExecuteTime": {
     "end_time": "2022-10-31T08:21:00.838134Z",
     "start_time": "2022-10-31T08:21:00.825112Z"
    }
   },
   "outputs": [],
   "source": [
    "def extract_valid_shot_and_update_shot_statistics_db(engine, shot_no, tool_no, columns, machine_id=22):\n",
    "    #shot_no(shot 번호), mc_id(설비 ID)에 해당하는 데이터 추출\n",
    "    df_shot = get_shot_data_from_db(engine, shot_no, columns, machine_id=machine_id, report_result=False)\n",
    "    \n",
    "    #유효 shot 구간 도출 및 numbering 처리 (\"real_shot\" 필드에 값 저장)\n",
    "    find_and_mark_valid_shot(df_shot, report_result=False)\n",
    "    \n",
    "    #주어진 column들에 대해 유효 shot 구간 별로 대푯값을 추출하여 tbShotResult 업데이트 \n",
    "    for column in columns:\n",
    "        update_shot_statistics_db(engine, df_shot, tool_no, column, machine_id=machine_id)\n",
    "    \n",
    "    del df_shot\n",
    "    gc.collect()"
   ]
  },
  {
   "cell_type": "markdown",
   "metadata": {},
   "source": [
    "### 주어진 machine_id에 해당하는 설비의 전체 shot에 대한 (1) 유효 shot 구간 도출, (2) 유효 shot 별 대푯값 추출, (3) shot 결과 테이블(tbShotResult) 업데이트"
   ]
  },
  {
   "cell_type": "code",
   "execution_count": 414,
   "metadata": {
    "ExecuteTime": {
     "end_time": "2022-10-31T08:21:00.853135Z",
     "start_time": "2022-10-31T08:21:00.840114Z"
    }
   },
   "outputs": [],
   "source": [
    "def extract_valid_shot_and_update_shot_statistics_db_for_all_shot(engine, columns, machine_id=22, tool_no=5, report_result=False):\n",
    "    #TPOP_MACHINE_PARAMETER 테이블의 shot_no list 전체 가져오기\n",
    "    all_shot_no = get_shot_no_list_from_db(engine)\n",
    "\n",
    "    if len(all_shot_no) < 1:\n",
    "        return all_shot_no\n",
    "\n",
    "    res = False\n",
    "    count = 0\n",
    "\n",
    "    for shot_no in all_shot_no:\n",
    "        #shot_no에 해당하는 shot의 machine id가 주어진 machine_id와 일치하는지 체크\n",
    "        res = check_machine_id_for_shot_no(engine, shot_no, machine_id=machine_id, report_result=report_result)\n",
    "\n",
    "        #shot의 mc_id가 machine_id와 일치하는 경우에만 별도의 list에 추가\n",
    "        if res is True:\n",
    "            print(\"loop {0}, shot_no {1} extract\".format(count, shot_no))\n",
    "            extract_valid_shot_and_update_shot_statistics_db(engine, shot_no, tool_no, columns)\n",
    "            \n",
    "        print(\"loop {0}, shot_no {1}\".format(count, shot_no))\n",
    "        count += 1"
   ]
  },
  {
   "cell_type": "code",
   "execution_count": 415,
   "metadata": {
    "ExecuteTime": {
     "end_time": "2022-10-31T08:21:00.868115Z",
     "start_time": "2022-10-31T08:21:00.856114Z"
    }
   },
   "outputs": [],
   "source": [
    "def extract_valid_shot_and_update_shot_statistics_db_for_all_shot_after_given_shot_old(engine, prev_shot_datetime, prev_shot_no, columns, machine_id=22, tool_no=5, report_result=False):\n",
    "    #TPOP_MACHINE_PARAMETER 테이블의 shot_no list 전체 가져오기\n",
    "    all_shot_no = get_shot_no_list_from_db(engine)\n",
    "\n",
    "    if len(all_shot_no) < 1:\n",
    "        return all_shot_no\n",
    "\n",
    "    res = False\n",
    "    count = 0\n",
    "    \n",
    "    all_shot_no.clear()\n",
    "    all_shot_no = get_shot_no_list_from_db_after_given_datetime_and_shot_no(engine, prev_shot_datetime,\n",
    "                                                                              prev_shot_no, machine_id)\n",
    "    \n",
    "    for shot_no in all_shot_no:\n",
    "        if shot_no <= prev_shot_no:\n",
    "            continue\n",
    "            \n",
    "        #shot_no에 해당하는 shot의 machine id가 주어진 machine_id와 일치하는지 체크\n",
    "        res = check_machine_id_for_shot_no(engine, shot_no, machine_id=machine_id, report_result=report_result)\n",
    "\n",
    "        #shot의 mc_id가 machine_id와 일치하는 경우에만 별도의 list에 추가\n",
    "        if res is True:\n",
    "            print(\"loop {0}, shot_no {1} extract\".format(count, shot_no))\n",
    "            extract_valid_shot_and_update_shot_statistics_db(engine, shot_no, tool_no, columns)\n",
    "            \n",
    "        print(\"loop {0}, shot_no {1}\".format(count, shot_no))\n",
    "        count += 1"
   ]
  },
  {
   "cell_type": "code",
   "execution_count": 416,
   "metadata": {
    "ExecuteTime": {
     "end_time": "2022-10-31T08:21:00.883110Z",
     "start_time": "2022-10-31T08:21:00.870113Z"
    }
   },
   "outputs": [],
   "source": [
    "def extract_valid_shot_and_update_shot_statistics_db_for_all_shot_after_given_shot(engine, prev_shot_datetime, prev_shot_no, columns, machine_id=22, tool_no=5, report_result=False):\n",
    "    all_shot_no = get_shot_no_list_from_db_after_given_datetime_and_shot_no(engine, prev_shot_datetime,\n",
    "                                                                              prev_shot_no, machine_id)\n",
    "\n",
    "    if len(all_shot_no) < 1:\n",
    "        return\n",
    "\n",
    "    count = 0\n",
    "    \n",
    "    for shot_no in all_shot_no:\n",
    "        print(\"loop {0}, shot_no {1} extract\".format(count, shot_no))\n",
    "        extract_valid_shot_and_update_shot_statistics_db(engine, shot_no, tool_no, columns)\n",
    "        count += 1"
   ]
  },
  {
   "cell_type": "code",
   "execution_count": 417,
   "metadata": {
    "ExecuteTime": {
     "end_time": "2022-10-31T08:21:00.898115Z",
     "start_time": "2022-10-31T08:21:00.886113Z"
    }
   },
   "outputs": [],
   "source": [
    "def extract_and_update_representatives_for_all_shot_with_db(columns, report_result=False, machine_id=22, tool_no=5):\n",
    "    #DB 연결\n",
    "    engine = connect_db()\n",
    "\n",
    "    #LJY_20221022 : tbShotResult에 저장된 마지막 shot 정보를 가져오기\n",
    "    df_last_shot = get_last_shot_info_at_shot_statistics_db(engine, machine_id=machine_id, tool_no=tool_no)\n",
    "    \n",
    "    res = False\n",
    "\n",
    "    #shot 대푯값 추출 결과 테이블(tbShotResult)가 비어있는 경우 TPOP_MACHINE_PARAMETER 테이블의 전체 데이터 중\n",
    "    #  machine_id가 일치하는 shot list 추출\n",
    "    if len(df_last_shot) < 1:\n",
    "        if report_result is True:\n",
    "            print(\"Need to extract representative values for all shots with machine id {0}, tool_no {1}\".format(machine_id, tool_no))\n",
    "        \n",
    "        extract_valid_shot_and_update_shot_statistics_db_for_all_shot(engine, machine_id, tool_no, columns)\n",
    "        #shot_list = get_shot_no_list_by_machine_id_from_db(engine, machine_id=machine_id)\n",
    "        engine.dispose()\n",
    "        return\n",
    "\n",
    "    if report_result is True:\n",
    "        print(\"Last shot from shot results table(tbShotResult) is -----\\n{0}\", df_last_shot.to_string())\n",
    "\n",
    "    print(df_last_shot)#temp\n",
    "    \n",
    "    extract_valid_shot_and_update_shot_statistics_db_for_all_shot_after_given_shot(engine, df_last_shot.iloc[0]['datetime'], df_last_shot.iloc[0]['shot_no'], columns, machine_id, tool_no)\n",
    "\n",
    "    del df_last_shot\n",
    "    gc.collect()\n",
    "    \n",
    "    engine.dispose()"
   ]
  },
  {
   "cell_type": "markdown",
   "metadata": {},
   "source": [
    "### 주어진 mc_id(설비 ID),  tool_no(공구 번호), data_type(대푯값 데이터 타입)에 대한 threshold 조회/저장\n",
    "  * data_type : 대표값 데이터 타입 (current_spindle : 0, current_x = 1, current_z = 2)"
   ]
  },
  {
   "cell_type": "code",
   "execution_count": 418,
   "metadata": {
    "ExecuteTime": {
     "end_time": "2022-10-31T08:21:00.913109Z",
     "start_time": "2022-10-31T08:21:00.901110Z"
    }
   },
   "outputs": [],
   "source": [
    "#threshold DB에서 마지막 데이터를 반환\n",
    "def get_threshold_data_from_db(engine, machine_id=22, tool_no=5, data_type=0, stat_type_name='data_mean'):\n",
    "    query = \"SELECT * FROM tbShotThreshold WHERE mc_id = {0} AND tool_number = {1} AND data_type = {2}\\\n",
    "                    AND stat_type = '{3}' ORDER BY datetime DESC LIMIT 1\".format(machine_id, tool_no, data_type, stat_type_name)\n",
    "    table = pd.read_sql_query(query, engine)\n",
    "    print(table)\n",
    "    return table"
   ]
  },
  {
   "cell_type": "code",
   "execution_count": 419,
   "metadata": {
    "ExecuteTime": {
     "end_time": "2022-10-31T08:21:00.928139Z",
     "start_time": "2022-10-31T08:21:00.915113Z"
    }
   },
   "outputs": [],
   "source": [
    "def get_threshold_data_from_db_by_data_type_name(engine, machine_id=22, tool_no=5, data_type_name='current_spindle', stat_type_name='data_mean'):\n",
    "    data_type = 0\n",
    "    \n",
    "    if data_type_name == 'current_spindle':\n",
    "        data_type = 0\n",
    "    elif data_type_name == 'current_x':\n",
    "        data_type = 1\n",
    "    elif data_type_name == 'current_z':\n",
    "        data_type = 2\n",
    "    else:\n",
    "        return pd.DataFrame()\n",
    "    \n",
    "    return get_threshold_data_from_db(engine, machine_id, tool_no, data_type, stat_type_name)"
   ]
  },
  {
   "cell_type": "code",
   "execution_count": 420,
   "metadata": {
    "ExecuteTime": {
     "end_time": "2022-10-31T08:21:00.943139Z",
     "start_time": "2022-10-31T08:21:00.930112Z"
    }
   },
   "outputs": [],
   "source": [
    "#threshold DB에 값 저장\n",
    "def put_threshold_data_from_db(engine, threshold, machine_id=22, tool_no=5, data_type=0, stat_type_name='data_mean'):\n",
    "    from datetime import datetime\n",
    "    \n",
    "    now = datetime.now()\n",
    "    \n",
    "    str_date = now.strftime(\"%Y-%m-%d\")\n",
    "    str_datetime = now.strftime(\"%Y-%m-%d %H:%M:%S\")\n",
    "    \n",
    "    query = \"INSERT INTO tbShotThreshold (date, datetime, mc_id, tool_number, data_type, stat_type, threshold) VALUES\\\n",
    "            ('{0}', '{1}', {2}, {3}, {4}, '{5}', {6})\".format(str_date, str_datetime, machine_id, tool_no, data_type, stat_type_name, threshold)\n",
    "    \n",
    "    engine.execute(query)\n",
    "    \n",
    "    return True"
   ]
  },
  {
   "cell_type": "code",
   "execution_count": 421,
   "metadata": {
    "ExecuteTime": {
     "end_time": "2022-10-31T08:21:00.958140Z",
     "start_time": "2022-10-31T08:21:00.945109Z"
    }
   },
   "outputs": [],
   "source": [
    "def put_threshold_data_from_db_by_data_type_name(engine, threshold, machine_id=22, tool_no=5, data_type_name='current_spindle', stat_type_name='data_mean'):\n",
    "    data_type = 0\n",
    "    \n",
    "    if data_type_name == 'current_spindle':\n",
    "        data_type = 0\n",
    "    elif data_type_name == 'current_x':\n",
    "        data_type = 1\n",
    "    elif data_type_name == 'current_z':\n",
    "        data_type = 2\n",
    "    else:\n",
    "        return False\n",
    "    \n",
    "    return put_threshold_data_from_db(engine, threshold, machine_id, tool_no, data_type, stat_type_name)"
   ]
  },
  {
   "cell_type": "code",
   "execution_count": 422,
   "metadata": {
    "ExecuteTime": {
     "end_time": "2022-10-31T08:21:00.973139Z",
     "start_time": "2022-10-31T08:21:00.961109Z"
    }
   },
   "outputs": [
    {
     "data": {
      "text/plain": [
       "'\\nengine = connect_db()\\npath = make_valid_model_file_path(engine)\\nmodel = joblib.load(path)\\n#print(model.get_params())\\nprint(model.feature_names_in_)\\nprint(model.offset_)\\nengine.dispose()\\n'"
      ]
     },
     "execution_count": 422,
     "metadata": {},
     "output_type": "execute_result"
    }
   ],
   "source": [
    "'''\n",
    "engine = connect_db()\n",
    "path = make_valid_model_file_path(engine)\n",
    "model = joblib.load(path)\n",
    "#print(model.get_params())\n",
    "print(model.feature_names_in_)\n",
    "print(model.offset_)\n",
    "engine.dispose()\n",
    "'''"
   ]
  },
  {
   "cell_type": "code",
   "execution_count": 423,
   "metadata": {
    "ExecuteTime": {
     "end_time": "2022-10-31T08:21:00.988108Z",
     "start_time": "2022-10-31T08:21:00.975116Z"
    }
   },
   "outputs": [],
   "source": [
    "def get_threshold_value_by_data_type_name(engine, machine_id=22, tool_no=5, data_type_name ='current_spindle', stat_type_name='data_mean', report_result=False):\n",
    "    df_threshold = get_threshold_data_from_db_by_data_type_name(engine, machine_id, tool_no, data_type_name, stat_type_name)\n",
    "    \n",
    "    threshold_value = 0\n",
    "    \n",
    "    #threshold 정보가 DB에 있는 경우\n",
    "    if len(df_threshold) > 0:\n",
    "        threshold_value = df_threshold.iloc[0]['threshold']\n",
    "        del df_threshold\n",
    "        gc.collect()\n",
    "        return threshold_value\n",
    "\n",
    "    model_path = make_valid_model_file_path(engine, model_name='Isolation Forest', machine_id=machine_id, tool_no=tool_no, data_type_name=data_type_name, stat_type_name=stat_type_name)\n",
    "    \n",
    "    print(model_path)\n",
    "    if len(model_path) < 1:\n",
    "        return np.NaN\n",
    "    \n",
    "    df_shot_statistics = get_all_shot_specific_statistic_data_from_db_by_data_type_name(engine, machine_id, tool_no, data_type_name, stat_type_name)\n",
    "    if len(df_shot_statistics) < 1:\n",
    "        return np.NaN\n",
    "    \n",
    "    if report_result is True:\n",
    "        print(df_shot_statistics.info())\n",
    "    \n",
    "    model = joblib.load(model_path)\n",
    "    #model로부터 threshold 값 계산\n",
    "    threshold_value = calculate_threshold_value_by_IsolationForest(model, df_shot_statistics, stat_type_name=stat_type_name)\n",
    "    \n",
    "    #threshold값을 DB에 저장\n",
    "    put_threshold_data_from_db_by_data_type_name(engine, threshold_value, machine_id=machine_id, tool_no=tool_no,\n",
    "                                                 data_type_name=data_type_name, stat_type_name=stat_type_name)\n",
    "    \n",
    "    if report_result is True:\n",
    "        print(threshold_value)\n",
    "        print(df_shot_statistics[df_shot_statistics['outliers'] == 1])\n",
    "\n",
    "        show_plot_comparing_data_by_condition(df_shot_statistics, 'data_mean', 'outliers', [1], data_names = ('outlier', 'normal'),\n",
    "                                          title = 'Spindle Current', x_axis_title='real shot no.', y_axis_title='current_spindle')\n",
    "    \n",
    "    return threshold_value"
   ]
  },
  {
   "cell_type": "code",
   "execution_count": 424,
   "metadata": {
    "ExecuteTime": {
     "end_time": "2022-10-31T08:21:01.003132Z",
     "start_time": "2022-10-31T08:21:00.990111Z"
    }
   },
   "outputs": [
    {
     "data": {
      "text/plain": [
       "'\\nengine = connect_db()\\nprint(get_threshold_value_by_data_type_name(engine, report_result=False))\\nengine.dispose()\\n'"
      ]
     },
     "execution_count": 424,
     "metadata": {},
     "output_type": "execute_result"
    }
   ],
   "source": [
    "'''\n",
    "engine = connect_db()\n",
    "print(get_threshold_value_by_data_type_name(engine, report_result=False))\n",
    "engine.dispose()\n",
    "'''"
   ]
  },
  {
   "cell_type": "markdown",
   "metadata": {},
   "source": [
    "### anomaly detaction(이상탐지)를 실행하여 결과를 저장한 마지막 shot 이후의 데이터 추출\n",
    "  * 용도 : 마지막으로 이상탐지 결과를 저장한 shot 이후의 데이터에 대해서 이상탐지를 수행한 후 결과를 저장하기 위함\n",
    "  * 특정 시점에 기능을 실행했을 때 최신 데이터에 대해 이상탐지 결과를 저장할 수 있도록 함"
   ]
  },
  {
   "cell_type": "markdown",
   "metadata": {},
   "source": [
    "#### 이상탐지 결과 저장 table(tbShotResult)에서 mc_id(설비 ID), tool_number(공구 번호) 기준으로 마지막 shot 정보 가져오기"
   ]
  },
  {
   "cell_type": "code",
   "execution_count": 425,
   "metadata": {
    "ExecuteTime": {
     "end_time": "2022-10-31T08:21:01.018109Z",
     "start_time": "2022-10-31T08:21:01.005110Z"
    }
   },
   "outputs": [],
   "source": [
    "def get_last_shot_info_at_shot_result_db(engine, machine_id=22, tool_no=5):\n",
    "    query = \"SELECT * FROM tbShotResult where mc_id={0} and tool_number={1} ORDER BY\\\n",
    "            shot_no DESC, shot_no_sub DESC LIMIT 1\".format(machine_id, tool_no)\n",
    "    table = pd.read_sql_query(query, engine)\n",
    "    return table"
   ]
  },
  {
   "cell_type": "markdown",
   "metadata": {},
   "source": [
    "#### shot 별 통계 데이터 테이블(tbShotStatistics)에서 주어진 시간, shot_no 이후의 data 추출"
   ]
  },
  {
   "cell_type": "code",
   "execution_count": 426,
   "metadata": {
    "ExecuteTime": {
     "end_time": "2022-10-31T08:21:01.033109Z",
     "start_time": "2022-10-31T08:21:01.020107Z"
    }
   },
   "outputs": [],
   "source": [
    "#DB의 tbShotStatistics 테이블에 저장된 shot_no list 추출\n",
    "def get_all_shot_specific_stat_data_after_given_prev_data(engine, prev_datetime, prev_shot_no, machine_id=22, tool_no=5, data_type=0, stat_type_name='data_mean'):\n",
    "    query = \"SELECT date, datetime, mc_id, tool_number, shot_no, shot_no_sub, data_type, {0} FROM tbShotStatistics WHERE shot_no > {1} AND datetime > '{2}' AND mc_id = {3}\\\n",
    "                                AND tool_number = {4} AND data_type = {5}\".format(stat_type_name, prev_shot_no, prev_datetime, machine_id, tool_no, data_type)\n",
    "    table = pd.read_sql_query(query, engine)\n",
    "    return table"
   ]
  },
  {
   "cell_type": "markdown",
   "metadata": {},
   "source": [
    "### shot 별 이상 판단 결과 저장\n",
    " * 주어진 mc_id(설비 ID),  tool_no(공구 번호), data_type(대푯값 데이터 타입), stat_type(통계값 데이터 타입)에 대한 threshold 기준으로 이상 판별"
   ]
  },
  {
   "cell_type": "code",
   "execution_count": 427,
   "metadata": {
    "ExecuteTime": {
     "end_time": "2022-10-31T08:21:01.048135Z",
     "start_time": "2022-10-31T08:21:01.036107Z"
    }
   },
   "outputs": [],
   "source": [
    "def update_shot_result_db(engine, df_shot, report_result=False):\n",
    "    if len(df_shot) < 1:\n",
    "        return\n",
    "    \n",
    "    with engine.connect() as conn:\n",
    "        query = \"\"\n",
    "        alarm_state = 0\n",
    "        prev_anomaly = 0\n",
    "\n",
    "        #tbShotResult에 저장된 마지막 shot 정보를 가져오기\n",
    "        df_last_shot = get_last_shot_info_at_shot_result_db(engine, machine_id=df_shot.iloc[0]['mc_id'], tool_no=df_shot.iloc[0]['tool_number'])\n",
    "\n",
    "        if len(df_last_shot) > 0:\n",
    "            prev_anomaly = df_last_shot.iloc[0]['anomaly_predict']\n",
    "\n",
    "        normal_count = 0\n",
    "        \n",
    "        for index, row in df_shot.iterrows():\n",
    "            alarm_state = 0\n",
    "\n",
    "            if (prev_anomaly == 0) and (prev_anomaly != row['anomaly']) and (normal_count > 3):\n",
    "                alarm_state = 1\n",
    "            \n",
    "            if row['anomaly'] == 0:\n",
    "                if prev_anomaly == 1:\n",
    "                    normal_count = 0\n",
    "                else:\n",
    "                    normal_count += 1\n",
    "\n",
    "            prev_anomaly = row['anomaly']\n",
    "            \n",
    "            query = \"SELECT id FROM tbShotResult where date = '{0}' and datetime = '{1}' and mc_id = {2} and tool_number = {3}\\\n",
    "                    and shot_no = {4} and shot_no_sub = {5}\".format(row['date'], row['datetime'], row['mc_id'], row['tool_number'], row['shot_no'],\n",
    "                                                              row['shot_no_sub'])\n",
    "            result = conn.execute(query)\n",
    "            \n",
    "            #DB에 존재하지 않는 경우에만 DB에 추가 등록\n",
    "            if result.rowcount < 1:\n",
    "                query = \"INSERT INTO tbShotResult (date, datetime, mc_id, tool_number, shot_no, shot_no_sub, anomaly_predict, alarm_state) VALUES\\\n",
    "                        ('{0}', '{1}', {2}, {3}, {4}, {5}, {6}, {7})\".format(row['date'], row['datetime'], row['mc_id'], row['tool_number'], row['shot_no'],\n",
    "                                                                             row['shot_no_sub'], row['anomaly'], alarm_state)\n",
    "                if report_result is True:\n",
    "                    print(query)\n",
    "\n",
    "                conn.execute(query)\n",
    "\n",
    "                query = \"SELECT id FROM tbShotResult where date = '{0}' and datetime = '{1}' and mc_id = {2} and tool_number = {3}\\\n",
    "                        and shot_no = {4} and shot_no_sub = {5}\".format(row['date'], row['datetime'], row['mc_id'], row['tool_number'], row['shot_no'],\n",
    "                                                                  row['shot_no_sub'])\n",
    "                if report_result is True:\n",
    "                    print(query)\n",
    "\n",
    "                result = conn.execute(query)\n",
    "                \n",
    "            result_id = result.first()[0]\n",
    "            \n",
    "            if report_result is True:\n",
    "                print(result_id)\n",
    "            \n",
    "            query = \"UPDATE tbShotStatistics SET result_id = {0} where date = '{1}' and datetime = '{2}' and mc_id = {3} and tool_number = {4}\\\n",
    "                    and shot_no = {5} and shot_no_sub = {6}\".format(result_id, row['date'], row['datetime'], row['mc_id'], row['tool_number'], row['shot_no'],\n",
    "                                                               row['shot_no_sub'])\n",
    "            if report_result is True:\n",
    "                print(query)\n",
    "                \n",
    "            conn.execute(query)\n",
    "        conn.close()"
   ]
  },
  {
   "cell_type": "markdown",
   "metadata": {},
   "source": [
    "### 주어진 mc_id(설비 ID),  tool_no(공구 번호), data_type(대푯값 데이터 타입)에 대한 threshold 기준으로 이상 판별\n",
    "  * data_type : 대표값 데이터 타입 (current_spindle : 0, current_x = 1, current_z = 2)"
   ]
  },
  {
   "cell_type": "code",
   "execution_count": 428,
   "metadata": {
    "ExecuteTime": {
     "end_time": "2022-10-31T08:21:01.063135Z",
     "start_time": "2022-10-31T08:21:01.051108Z"
    }
   },
   "outputs": [],
   "source": [
    "def run_anomaly_detaction_for_all_shot(machine_id=22, tool_no=5, data_type_name ='current_spindle', stat_type_name='data_mean', report_result=False):\n",
    "    #data type 판별\n",
    "    data_type = 0\n",
    "    \n",
    "    if data_type_name == 'current_spindle':\n",
    "        data_type = 0\n",
    "    elif data_type_name == 'current_x':\n",
    "        data_type = 1\n",
    "    elif data_type_name == 'current_z':\n",
    "        data_type = 2\n",
    "    else:\n",
    "        return\n",
    "        \n",
    "    engine = connect_db()\n",
    "    \n",
    "    #LJY_20221022 : tbShotResult에 저장된 마지막 shot 정보를 가져오기\n",
    "    df_last_shot = get_last_shot_info_at_shot_result_db(engine, machine_id=machine_id, tool_no=tool_no)\n",
    "    \n",
    "    res = False\n",
    "\n",
    "    #shot 대푯값 추출 결과 테이블(tbShotResult)가 비어있는 경우 TPOP_MACHINE_PARAMETER 테이블의 전체 데이터 중\n",
    "    #  machine_id가 일치하는 shot list 추출\n",
    "    if len(df_last_shot) < 1:\n",
    "        if report_result is True:\n",
    "            print(\"Need to run anomaly detaction for all shots with machine id {0}, tool_no {1}\".format(machine_id, tool_no))\n",
    "            \n",
    "        df_shot_statistics = get_all_shot_specific_statistic_data_from_db_by_data_type_name(engine, machine_id, tool_no, data_type_name, stat_type_name)\n",
    "    else:\n",
    "        if report_result is True:\n",
    "            print(\"Last shot from shot results table(tbShotResult) is -----\\n{0}\", df_last_shot.to_string())\n",
    "            \n",
    "        df_shot_statistics = get_all_shot_specific_stat_data_after_given_prev_data(engine, df_last_shot.iloc[0]['datetime'],\n",
    "                                                df_last_shot.iloc[0]['shot_no'], machine_id, tool_no, data_type, stat_type_name)\n",
    "        \n",
    "        if report_result is True:\n",
    "            print(df_shot_statistics)\n",
    "    \n",
    "    threshold = get_threshold_value_by_data_type_name(engine, machine_id, tool_no, data_type_name, stat_type_name, report_result)\n",
    "    \n",
    "    df_shot_statistics['anomaly'] = 0\n",
    "    \n",
    "    for index, row in df_shot_statistics.iterrows():\n",
    "        if row[stat_type_name] >= threshold:\n",
    "            df_shot_statistics.iloc[index, df_shot_statistics.columns.get_loc('anomaly')] = 1\n",
    "            \n",
    "            if report_result is True:\n",
    "                print(\"row[{0}][{1}](value:{2}) >= threshold(value:{3})\".format(index, stat_type_name, row[stat_type_name], threshold))\n",
    "        else:\n",
    "            if report_result is True:\n",
    "                print(\"row[{0}][{1}](value:{2}) < threshold(value:{3})\".format(index, stat_type_name, row[stat_type_name], threshold))\n",
    "    \n",
    "    #print(df_shot_statistics.query(\"anomaly == 1\"))\n",
    "    #print(df_shot_statistics.info())\n",
    "    \n",
    "    #DB에 shot 이상판별 결과 저장\n",
    "    update_shot_result_db(engine, df_shot_statistics, report_result=report_result)\n",
    "    \n",
    "    del df_shot_statistics\n",
    "    del df_last_shot\n",
    "    gc.collect()\n",
    "\n",
    "    engine.dispose()"
   ]
  },
  {
   "cell_type": "markdown",
   "metadata": {},
   "source": [
    "# shot 별 대푯값 테이블 업데이트"
   ]
  },
  {
   "cell_type": "code",
   "execution_count": 429,
   "metadata": {
    "ExecuteTime": {
     "end_time": "2022-10-31T08:21:01.713641Z",
     "start_time": "2022-10-31T08:21:01.065106Z"
    }
   },
   "outputs": [
    {
     "name": "stdout",
     "output_type": "stream",
     "text": [
      "Last shot from shot results table(tbShotResult) is -----\n",
      "{0}              datetime  shot_no  shot_no_sub  mc_id  tool_number\n",
      "0 2022-10-31 11:10:14     7878            1     22            5\n",
      "             datetime  shot_no  shot_no_sub  mc_id  tool_number\n",
      "0 2022-10-31 11:10:14     7878            1     22            5\n",
      "loop 0, shot_no 7879 extract\n"
     ]
    }
   ],
   "source": [
    "extract_and_update_representatives_for_all_shot_with_db(['current_spindle'], report_result=True)"
   ]
  },
  {
   "cell_type": "markdown",
   "metadata": {},
   "source": [
    "# shot 별 대푯값 기준으로 이상 판별 후 결과 기록"
   ]
  },
  {
   "cell_type": "code",
   "execution_count": 430,
   "metadata": {
    "ExecuteTime": {
     "end_time": "2022-10-31T08:21:02.079627Z",
     "start_time": "2022-10-31T08:21:01.715646Z"
    }
   },
   "outputs": [
    {
     "name": "stdout",
     "output_type": "stream",
     "text": [
      "   id        date            datetime  mc_id  tool_number  data_type  \\\n",
      "0   1  2022-10-31 2022-10-31 17:01:38     22            5          0   \n",
      "\n",
      "   stat_type  threshold  \n",
      "0  data_mean    2628.96  \n"
     ]
    }
   ],
   "source": [
    "run_anomaly_detaction_for_all_shot()"
   ]
  },
  {
   "cell_type": "code",
   "execution_count": null,
   "metadata": {},
   "outputs": [],
   "source": []
  }
 ],
 "metadata": {
  "kernelspec": {
   "display_name": "Python 3 (ipykernel)",
   "language": "python",
   "name": "python3"
  },
  "language_info": {
   "codemirror_mode": {
    "name": "ipython",
    "version": 3
   },
   "file_extension": ".py",
   "mimetype": "text/x-python",
   "name": "python",
   "nbconvert_exporter": "python",
   "pygments_lexer": "ipython3",
   "version": "3.9.7"
  },
  "toc": {
   "base_numbering": 1,
   "nav_menu": {},
   "number_sections": true,
   "sideBar": true,
   "skip_h1_title": false,
   "title_cell": "Table of Contents",
   "title_sidebar": "Contents",
   "toc_cell": false,
   "toc_position": {},
   "toc_section_display": true,
   "toc_window_display": false
  }
 },
 "nbformat": 4,
 "nbformat_minor": 4
}
