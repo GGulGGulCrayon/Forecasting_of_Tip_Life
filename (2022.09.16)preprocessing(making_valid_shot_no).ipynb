{
 "cells": [
  {
   "cell_type": "markdown",
   "metadata": {},
   "source": [
    "# 전처리 기능 개발"
   ]
  },
  {
   "cell_type": "markdown",
   "metadata": {},
   "source": [
    "## 데이터 불러오기"
   ]
  },
  {
   "cell_type": "code",
   "execution_count": 4,
   "metadata": {
    "ExecuteTime": {
     "end_time": "2022-09-16T07:11:22.971115Z",
     "start_time": "2022-09-16T07:11:19.064299Z"
    }
   },
   "outputs": [],
   "source": [
    "import pandas as pd\n",
    "import numpy as np\n",
    "import matplotlib.pyplot as plt\n",
    "import seaborn as sns\n",
    "import warnings\n",
    "import random\n",
    "warnings.filterwarnings('ignore')"
   ]
  },
  {
   "cell_type": "code",
   "execution_count": 5,
   "metadata": {
    "ExecuteTime": {
     "end_time": "2022-09-16T07:11:31.755428Z",
     "start_time": "2022-09-16T07:11:22.974080Z"
    }
   },
   "outputs": [],
   "source": [
    "df = pd.read_csv('./(2022.08.30) Daeshin_VL04_CurSpindle_CurX_CurZ_utf8.csv')"
   ]
  },
  {
   "cell_type": "code",
   "execution_count": 6,
   "metadata": {
    "ExecuteTime": {
     "end_time": "2022-09-16T07:11:31.785428Z",
     "start_time": "2022-09-16T07:11:31.757398Z"
    }
   },
   "outputs": [
    {
     "data": {
      "text/html": [
       "<div>\n",
       "<style scoped>\n",
       "    .dataframe tbody tr th:only-of-type {\n",
       "        vertical-align: middle;\n",
       "    }\n",
       "\n",
       "    .dataframe tbody tr th {\n",
       "        vertical-align: top;\n",
       "    }\n",
       "\n",
       "    .dataframe thead th {\n",
       "        text-align: right;\n",
       "    }\n",
       "</style>\n",
       "<table border=\"1\" class=\"dataframe\">\n",
       "  <thead>\n",
       "    <tr style=\"text-align: right;\">\n",
       "      <th></th>\n",
       "      <th>datetime</th>\n",
       "      <th>tool_number</th>\n",
       "      <th>shot_no</th>\n",
       "      <th>current_spindle</th>\n",
       "      <th>current_x</th>\n",
       "      <th>current_z</th>\n",
       "    </tr>\n",
       "  </thead>\n",
       "  <tbody>\n",
       "    <tr>\n",
       "      <th>0</th>\n",
       "      <td>2022-08-01 00:00:00.357458</td>\n",
       "      <td>707</td>\n",
       "      <td>6210</td>\n",
       "      <td>0</td>\n",
       "      <td>0</td>\n",
       "      <td>2</td>\n",
       "    </tr>\n",
       "    <tr>\n",
       "      <th>1</th>\n",
       "      <td>2022-08-01 00:00:00.523228</td>\n",
       "      <td>707</td>\n",
       "      <td>6210</td>\n",
       "      <td>0</td>\n",
       "      <td>0</td>\n",
       "      <td>2</td>\n",
       "    </tr>\n",
       "    <tr>\n",
       "      <th>2</th>\n",
       "      <td>2022-08-01 00:00:00.751894</td>\n",
       "      <td>707</td>\n",
       "      <td>6210</td>\n",
       "      <td>0</td>\n",
       "      <td>0</td>\n",
       "      <td>2</td>\n",
       "    </tr>\n",
       "    <tr>\n",
       "      <th>3</th>\n",
       "      <td>2022-08-01 00:00:00.920389</td>\n",
       "      <td>707</td>\n",
       "      <td>6210</td>\n",
       "      <td>0</td>\n",
       "      <td>0</td>\n",
       "      <td>2</td>\n",
       "    </tr>\n",
       "    <tr>\n",
       "      <th>4</th>\n",
       "      <td>2022-08-01 00:00:01.121784</td>\n",
       "      <td>707</td>\n",
       "      <td>6210</td>\n",
       "      <td>0</td>\n",
       "      <td>0</td>\n",
       "      <td>2</td>\n",
       "    </tr>\n",
       "    <tr>\n",
       "      <th>...</th>\n",
       "      <td>...</td>\n",
       "      <td>...</td>\n",
       "      <td>...</td>\n",
       "      <td>...</td>\n",
       "      <td>...</td>\n",
       "      <td>...</td>\n",
       "    </tr>\n",
       "    <tr>\n",
       "      <th>10381473</th>\n",
       "      <td>2022-08-25 23:59:58.993583</td>\n",
       "      <td>101</td>\n",
       "      <td>6604</td>\n",
       "      <td>2049</td>\n",
       "      <td>31</td>\n",
       "      <td>2</td>\n",
       "    </tr>\n",
       "    <tr>\n",
       "      <th>10381474</th>\n",
       "      <td>2022-08-25 23:59:59.224553</td>\n",
       "      <td>101</td>\n",
       "      <td>6604</td>\n",
       "      <td>2049</td>\n",
       "      <td>33</td>\n",
       "      <td>2</td>\n",
       "    </tr>\n",
       "    <tr>\n",
       "      <th>10381475</th>\n",
       "      <td>2022-08-25 23:59:59.393921</td>\n",
       "      <td>101</td>\n",
       "      <td>6604</td>\n",
       "      <td>2047</td>\n",
       "      <td>33</td>\n",
       "      <td>2</td>\n",
       "    </tr>\n",
       "    <tr>\n",
       "      <th>10381476</th>\n",
       "      <td>2022-08-25 23:59:59.599327</td>\n",
       "      <td>101</td>\n",
       "      <td>6604</td>\n",
       "      <td>2047</td>\n",
       "      <td>33</td>\n",
       "      <td>2</td>\n",
       "    </tr>\n",
       "    <tr>\n",
       "      <th>10381477</th>\n",
       "      <td>2022-08-25 23:59:59.799306</td>\n",
       "      <td>101</td>\n",
       "      <td>6604</td>\n",
       "      <td>2047</td>\n",
       "      <td>30</td>\n",
       "      <td>2</td>\n",
       "    </tr>\n",
       "  </tbody>\n",
       "</table>\n",
       "<p>10381478 rows × 6 columns</p>\n",
       "</div>"
      ],
      "text/plain": [
       "                            datetime  tool_number  shot_no  current_spindle  \\\n",
       "0         2022-08-01 00:00:00.357458          707     6210                0   \n",
       "1         2022-08-01 00:00:00.523228          707     6210                0   \n",
       "2         2022-08-01 00:00:00.751894          707     6210                0   \n",
       "3         2022-08-01 00:00:00.920389          707     6210                0   \n",
       "4         2022-08-01 00:00:01.121784          707     6210                0   \n",
       "...                              ...          ...      ...              ...   \n",
       "10381473  2022-08-25 23:59:58.993583          101     6604             2049   \n",
       "10381474  2022-08-25 23:59:59.224553          101     6604             2049   \n",
       "10381475  2022-08-25 23:59:59.393921          101     6604             2047   \n",
       "10381476  2022-08-25 23:59:59.599327          101     6604             2047   \n",
       "10381477  2022-08-25 23:59:59.799306          101     6604             2047   \n",
       "\n",
       "          current_x  current_z  \n",
       "0                 0          2  \n",
       "1                 0          2  \n",
       "2                 0          2  \n",
       "3                 0          2  \n",
       "4                 0          2  \n",
       "...             ...        ...  \n",
       "10381473         31          2  \n",
       "10381474         33          2  \n",
       "10381475         33          2  \n",
       "10381476         33          2  \n",
       "10381477         30          2  \n",
       "\n",
       "[10381478 rows x 6 columns]"
      ]
     },
     "execution_count": 6,
     "metadata": {},
     "output_type": "execute_result"
    }
   ],
   "source": [
    "df"
   ]
  },
  {
   "cell_type": "markdown",
   "metadata": {},
   "source": [
    "## 전처리"
   ]
  },
  {
   "cell_type": "code",
   "execution_count": 7,
   "metadata": {
    "ExecuteTime": {
     "end_time": "2022-09-16T07:11:40.445523Z",
     "start_time": "2022-09-16T07:11:31.787400Z"
    }
   },
   "outputs": [
    {
     "data": {
      "text/plain": [
       "<AxesSubplot:>"
      ]
     },
     "execution_count": 7,
     "metadata": {},
     "output_type": "execute_result"
    },
    {
     "data": {
      "image/png": "[encoded data removed]",
      "text/plain": [
       "<Figure size 1800x720 with 2 Axes>"
      ]
     },
     "metadata": {
      "needs_background": "light"
     },
     "output_type": "display_data"
    }
   ],
   "source": [
    "import missingno as msno\n",
    "msno.matrix(df)"
   ]
  },
  {
   "cell_type": "code",
   "execution_count": 8,
   "metadata": {
    "ExecuteTime": {
     "end_time": "2022-09-16T07:11:40.820277Z",
     "start_time": "2022-09-16T07:11:40.447493Z"
    }
   },
   "outputs": [
    {
     "data": {
      "text/plain": [
       "datetime           0\n",
       "tool_number        0\n",
       "shot_no            0\n",
       "current_spindle    0\n",
       "current_x          0\n",
       "current_z          0\n",
       "dtype: int64"
      ]
     },
     "execution_count": 8,
     "metadata": {},
     "output_type": "execute_result"
    }
   ],
   "source": [
    "df.isnull().sum()"
   ]
  },
  {
   "cell_type": "code",
   "execution_count": 9,
   "metadata": {
    "ExecuteTime": {
     "end_time": "2022-09-16T07:11:40.910628Z",
     "start_time": "2022-09-16T07:11:40.822278Z"
    }
   },
   "outputs": [
    {
     "data": {
      "text/plain": [
       "array([6210, 6211, 6212, 6213, 6214, 6215, 6216, 6217, 6218, 6219, 6220,\n",
       "       6221, 6222, 6223, 6224, 6225, 6226, 6227, 6228, 6229, 6230, 6231,\n",
       "       6232, 6233, 6234, 6235, 6236, 6237, 6238, 6239, 6240, 6241, 6242,\n",
       "       6243, 6244, 6245, 6246, 6247, 6248, 6249, 6250, 6251, 6252, 6253,\n",
       "       6254, 6255, 6256, 6257, 6258, 6259, 6260, 6261, 6262, 6263, 6264,\n",
       "       6265, 6266, 6267, 6268, 6269, 6270, 6271, 6272, 6273, 6274, 6275,\n",
       "       6276, 6277, 6278, 6279, 6280, 6281, 6282, 6283, 6284, 6285, 6286,\n",
       "       6287, 6288, 6289, 6290, 6291, 6292, 6293, 6294, 6295, 6296, 6297,\n",
       "       6298, 6299, 6300, 6301, 6302, 6303, 6304, 6305, 6306, 6307, 6308,\n",
       "       6309, 6310, 6311, 6312, 6313, 6314, 6315, 6316, 6317, 6318, 6319,\n",
       "       6320, 6321, 6322, 6323, 6324, 6325, 6326, 6327, 6328, 6329, 6330,\n",
       "       6331, 6332, 6333, 6334, 6335, 6336, 6337, 6338, 6339, 6340, 6341,\n",
       "       6342, 6343, 6344, 6345, 6346, 6347, 6348, 6349, 6350, 6351, 6352,\n",
       "       6353, 6354, 6355, 6356, 6357, 6358, 6359, 6360, 6361, 6362, 6363,\n",
       "       6364, 6365, 6366, 6367, 6368, 6369, 6370, 6371, 6372, 6373, 6374,\n",
       "       6375, 6376, 6377, 6378, 6379, 6380, 6381, 6382, 6383, 6384, 6385,\n",
       "       6386, 6387, 6388, 6389, 6390, 6391, 6392, 6393, 6394, 6395, 6396,\n",
       "       6397, 6398, 6399, 6400, 6401, 6402, 6403, 6404, 6405, 6406, 6407,\n",
       "       6408, 6409, 6410, 6411, 6412, 6413, 6414, 6415, 6416, 6417, 6418,\n",
       "       6419, 6420, 6421, 6422, 6423, 6424, 6425, 6426, 6427, 6428, 6429,\n",
       "       6430, 6431, 6432, 6433, 6434, 6435, 6436, 6437, 6438, 6439, 6440,\n",
       "       6441, 6442, 6443, 6444, 6445, 6446, 6447, 6448, 6449, 6450, 6451,\n",
       "       6452, 6453, 6454, 6455, 6456, 6457, 6458, 6459, 6460, 6461, 6462,\n",
       "       6463, 6464, 6465, 6466, 6467, 6468, 6469, 6470, 6471, 6472, 6473,\n",
       "       6474, 6475, 6476, 6477, 6478, 6479, 6480, 6481, 6482, 6483, 6484,\n",
       "       6485, 6486, 6487, 6488, 6489, 6490, 6491, 6492, 6493, 6494, 6495,\n",
       "       6496, 6497, 6498, 6499, 6500, 6501, 6502, 6503, 6504, 6505, 6506,\n",
       "       6507, 6508, 6509, 6510, 6511, 6512, 6513, 6514, 6515, 6516, 6517,\n",
       "       6518, 6519, 6520, 6521, 6522, 6523, 6524, 6525, 6526, 6527, 6528,\n",
       "       6529, 6530, 6531, 6532, 6533, 6534, 6535, 6536, 6537, 6538, 6539,\n",
       "       6540, 6541, 6542, 6543, 6544, 6545, 6546, 6547, 6548, 6549, 6550,\n",
       "       6551, 6552, 6553, 6554, 6555, 6556, 6557, 6558, 6559, 6560, 6561,\n",
       "       6562, 6563, 6564, 6565, 6566, 6567, 6568, 6569, 6570, 6571, 6572,\n",
       "       6573, 6574, 6575, 6576, 6577, 6578, 6579, 6580, 6581, 6582, 6583,\n",
       "       6584, 6585, 6586, 6587, 6588, 6589, 6590, 6591, 6592, 6593, 6594,\n",
       "       6595, 6596, 6597, 6598, 6599, 6600, 6601, 6602, 6603, 6604],\n",
       "      dtype=int64)"
      ]
     },
     "execution_count": 9,
     "metadata": {},
     "output_type": "execute_result"
    }
   ],
   "source": [
    "df['shot_no'].unique()"
   ]
  },
  {
   "cell_type": "markdown",
   "metadata": {},
   "source": [
    "### tool_number로부터 tool 번호 및 상태 정보 추출"
   ]
  },
  {
   "cell_type": "code",
   "execution_count": 10,
   "metadata": {
    "ExecuteTime": {
     "end_time": "2022-09-16T07:11:41.302626Z",
     "start_time": "2022-09-16T07:11:40.912627Z"
    }
   },
   "outputs": [],
   "source": [
    "# tool 번호 및 상태 생성\n",
    "df['tool_state'] = df['tool_number']%100\n",
    "df['tool'] = (df['tool_number'] - df['tool_state'])/100\n",
    "df['tool'] = df['tool'].astype(int)\n",
    "df\n",
    "tool_number_list = list(df['tool_number'].unique())"
   ]
  },
  {
   "cell_type": "markdown",
   "metadata": {},
   "source": [
    "### shot 별로 사용된 공구를 순서대로 추출하여 shot과 사용 공구 순서를 pair로 하는 dataframe 생성"
   ]
  },
  {
   "cell_type": "markdown",
   "metadata": {},
   "source": [
    "#### 필요한 함수 정의"
   ]
  },
  {
   "cell_type": "code",
   "execution_count": 11,
   "metadata": {
    "ExecuteTime": {
     "end_time": "2022-09-16T07:11:41.317626Z",
     "start_time": "2022-09-16T07:11:41.305626Z"
    }
   },
   "outputs": [],
   "source": [
    "#dataframe에 사용된 공구를 순서대로 추출해서 list형태로 반환\n",
    "def extract_tool_list(data, report_result=False):\n",
    "    import itertools\n",
    "\n",
    "    tool_list = []\n",
    "    #print([(k, (g)) for k, g in itertools.groupby(df_shot_specific['tool'])])\n",
    "    for k, g in itertools.groupby(data['tool']):\n",
    "        tool_list.append(k)\n",
    "\n",
    "    if report_result is True:\n",
    "        print(tool_list)\n",
    "    \n",
    "    return tool_list"
   ]
  },
  {
   "cell_type": "code",
   "execution_count": 12,
   "metadata": {
    "ExecuteTime": {
     "end_time": "2022-09-16T07:11:41.377623Z",
     "start_time": "2022-09-16T07:11:41.320627Z"
    }
   },
   "outputs": [],
   "source": [
    "#dataframe에서 (1) 주어진 shot_no에 해당하는 데이터를 추출한 후, (2) 해당 데이터에 사용된 공구를 순서대로 가져와서 반환\n",
    "def extract_tool_list_of_specific_shot(data, shot_no, report_result=False):\n",
    "    df_shot = data[data['shot_no'] == shot_no]\n",
    "    \n",
    "    if report_result is True:\n",
    "        print(\"===== shot{} ============================\\n\\n(1) dataframe -----------------\\n\".format(shot_no))\n",
    "        print(df_shot)\n",
    "        print(\"(2) used tool -----------------\\n\")\n",
    "        print(df_shot['tool'].unique())\n",
    "        print(\"(3) extract order using tools -----------------\\n\")\n",
    "    return extract_tool_list(df_shot, report_result)"
   ]
  },
  {
   "cell_type": "code",
   "execution_count": 13,
   "metadata": {
    "ExecuteTime": {
     "end_time": "2022-09-16T07:11:41.392728Z",
     "start_time": "2022-09-16T07:11:41.379624Z"
    }
   },
   "outputs": [],
   "source": [
    "#dataframe에서 전체 shot에 대해 아래의 과정 수행\n",
    "#   - 각 shot 별로 사용된 공구 순서를 추출\n",
    "#   - shot & 공구 사용 순서정보를 column으로 하는 dataframe을 구성한 후 반환\n",
    "def extract_tool_list_of_all_shots(data, report_result=False):\n",
    "    column_names = ['shot_no', 'order_using_tool']\n",
    "    df_by_shot = pd.DataFrame(columns=column_names)\n",
    "    row = 0\n",
    "\n",
    "    for shot in df['shot_no'].unique():\n",
    "        tool_list = extract_tool_list_of_specific_shot(df, shot, report_result)\n",
    "        str_tool_list = ' '.join(map(str, tool_list))\n",
    "        df_by_shot.loc[row] = [shot, str_tool_list]\n",
    "        row += 1\n",
    "\n",
    "    print(df_by_shot)\n",
    "    \n",
    "    return df_by_shot"
   ]
  },
  {
   "cell_type": "markdown",
   "metadata": {},
   "source": [
    "#### 테스트"
   ]
  },
  {
   "cell_type": "code",
   "execution_count": 14,
   "metadata": {
    "ExecuteTime": {
     "end_time": "2022-09-16T07:11:41.752677Z",
     "start_time": "2022-09-16T07:11:41.394624Z"
    }
   },
   "outputs": [
    {
     "name": "stdout",
     "output_type": "stream",
     "text": [
      "===== shot6413 ============================\n",
      "\n",
      "(1) dataframe -----------------\n",
      "\n",
      "                           datetime  tool_number  shot_no  current_spindle  \\\n",
      "6657850  2022-08-17 08:50:06.076249          707     6413             4460   \n",
      "6657851  2022-08-17 08:50:06.329901          707     6413              140   \n",
      "6657852  2022-08-17 08:50:06.490129          707     6413              140   \n",
      "6657853  2022-08-17 08:50:06.689529          707     6413              140   \n",
      "6657854  2022-08-17 08:50:06.906734          707     6413              140   \n",
      "...                             ...          ...      ...              ...   \n",
      "6684674  2022-08-17 10:19:38.357815          707     6413             6498   \n",
      "6684675  2022-08-17 10:19:38.529615          707     6413             6498   \n",
      "6684676  2022-08-17 10:19:38.729615          707     6413             6313   \n",
      "6684677  2022-08-17 10:19:38.924438          707     6413             6313   \n",
      "6684678  2022-08-17 10:19:39.152132          707     6413             6313   \n",
      "\n",
      "         current_x  current_z  tool_state  tool  \n",
      "6657850          4          8           7     7  \n",
      "6657851          4          2           7     7  \n",
      "6657852          0          2           7     7  \n",
      "6657853          0          2           7     7  \n",
      "6657854          0          2           7     7  \n",
      "...            ...        ...         ...   ...  \n",
      "6684674          5         11           7     7  \n",
      "6684675          5         11           7     7  \n",
      "6684676          5         11           7     7  \n",
      "6684677          7         11           7     7  \n",
      "6684678          7         11           7     7  \n",
      "\n",
      "[26829 rows x 8 columns]\n",
      "(2) used tool -----------------\n",
      "\n",
      "[ 7  1  5  9 11  3]\n",
      "(3) extract order using tools -----------------\n",
      "\n",
      "[7, 1, 5, 9, 11, 7, 3, 11, 7, 1, 5, 9, 11, 7, 3, 11, 7]\n",
      "===== shot6357 ============================\n",
      "\n",
      "(1) dataframe -----------------\n",
      "\n",
      "                           datetime  tool_number  shot_no  current_spindle  \\\n",
      "5336618  2022-08-14 07:19:52.149976          101     6357                0   \n",
      "5336619  2022-08-14 07:19:52.332893          101     6357                0   \n",
      "5336620  2022-08-14 07:19:52.518596          101     6357                0   \n",
      "5336621  2022-08-14 07:19:52.705609          101     6357                0   \n",
      "5336622  2022-08-14 07:19:52.905714          101     6357                0   \n",
      "...                             ...          ...      ...              ...   \n",
      "5360328  2022-08-14 08:39:00.616394          707     6357             2015   \n",
      "5360329  2022-08-14 08:39:00.816658          707     6357             7783   \n",
      "5360330  2022-08-14 08:39:01.025208          707     6357             7783   \n",
      "5360331  2022-08-14 08:39:01.236763          707     6357             6586   \n",
      "5360332  2022-08-14 08:39:01.448200          707     6357             6586   \n",
      "\n",
      "         current_x  current_z  tool_state  tool  \n",
      "5336618          0          2           1     1  \n",
      "5336619          0          2           1     1  \n",
      "5336620          0          2           1     1  \n",
      "5336621          0          2           1     1  \n",
      "5336622          0          2           1     1  \n",
      "...            ...        ...         ...   ...  \n",
      "5360328          7          4           7     7  \n",
      "5360329          7         12           7     7  \n",
      "5360330          7         12           7     7  \n",
      "5360331          6         12           7     7  \n",
      "5360332          6         12           7     7  \n",
      "\n",
      "[23715 rows x 8 columns]\n",
      "(2) used tool -----------------\n",
      "\n",
      "[ 1  5  9 11  7  3]\n",
      "(3) extract order using tools -----------------\n",
      "\n",
      "[1, 5, 9, 11, 7, 3, 11, 7]\n"
     ]
    },
    {
     "data": {
      "text/plain": [
       "[1, 5, 9, 11, 7, 3, 11, 7]"
      ]
     },
     "execution_count": 14,
     "metadata": {},
     "output_type": "execute_result"
    }
   ],
   "source": [
    "#테스트 : 6413번 shot에 대한 공구 사용 순서 추출\n",
    "extract_tool_list_of_specific_shot(df, 6413, report_result=True)\n",
    "\n",
    "#테스트 : 6357번 shot에 대한 공구 사용 순서 추출\n",
    "extract_tool_list_of_specific_shot(df, 6357, report_result=True)"
   ]
  },
  {
   "cell_type": "markdown",
   "metadata": {
    "ExecuteTime": {
     "end_time": "2022-09-15T09:17:49.827336Z",
     "start_time": "2022-09-15T09:17:49.813337Z"
    }
   },
   "source": [
    "#### shot no.와 해당 shot에 사용된 공구 순서 정보를 가지는 dataframe 생성"
   ]
  },
  {
   "cell_type": "code",
   "execution_count": 18,
   "metadata": {
    "ExecuteTime": {
     "end_time": "2022-09-16T07:14:49.430684Z",
     "start_time": "2022-09-16T07:14:44.688716Z"
    }
   },
   "outputs": [
    {
     "name": "stdout",
     "output_type": "stream",
     "text": [
      "    shot_no     order_using_tool\n",
      "0      6210  7 1 5 9 11 7 3 11 7\n",
      "1      6211                    7\n",
      "2      6212                    7\n",
      "3      6213                    7\n",
      "4      6214                  7 1\n",
      "..      ...                  ...\n",
      "390    6600  7 1 5 9 11 7 3 11 7\n",
      "391    6601  7 1 5 9 11 7 3 11 7\n",
      "392    6602  7 1 5 9 11 7 3 11 7\n",
      "393    6603  7 1 5 9 11 7 3 11 7\n",
      "394    6604                  7 1\n",
      "\n",
      "[395 rows x 2 columns]\n"
     ]
    }
   ],
   "source": [
    "#전체 shot에 대한 공구 사용 순서를 추출하여 dataframe 구성\n",
    "df_by_shot = extract_tool_list_of_all_shots(df)"
   ]
  },
  {
   "cell_type": "markdown",
   "metadata": {},
   "source": [
    "#### shot 별 공구 사용 순서 패턴 추출"
   ]
  },
  {
   "cell_type": "code",
   "execution_count": 32,
   "metadata": {
    "ExecuteTime": {
     "end_time": "2022-09-16T08:47:17.137784Z",
     "start_time": "2022-09-16T08:47:17.122309Z"
    }
   },
   "outputs": [
    {
     "data": {
      "text/plain": [
       "array(['7 1 5 9 11 7 3 11 7', '7', '7 1', '1', '1 5 9 11 7 3 11 7',\n",
       "       '7 1 5 9 1 5 9 11 7 3 11 7', '7 1 5 7 11 1 5 9 11 7 3 11 7',\n",
       "       '7 1 5 9 11 7 3 11 7 1 5 9 11 7 3 11 7', '7 1 5 9 11 7 1 3 11 7',\n",
       "       '7 1 5 9 11 7 3 11 7 1 5 9 11 7 3 11 7 1 5 9 11 7 3 11 7 1 5 9 11 7 3 11 7',\n",
       "       '7 1 5 9 11 7 3 11 7 1 5 9 11 7 3 11 7 1 5 9 11 7 3 11 7',\n",
       "       '1 5 9 11 7 3 11 7 1 5 9 11 7 3 11 7 1 5 9 11 7 3 11 7',\n",
       "       '7 1 7 1 5 9 11 7 3 11 7'], dtype=object)"
      ]
     },
     "execution_count": 32,
     "metadata": {},
     "output_type": "execute_result"
    }
   ],
   "source": [
    "#공구 사용 순서 패턴 추출\n",
    "df_by_shot['order_using_tool'].unique()"
   ]
  },
  {
   "cell_type": "code",
   "execution_count": 33,
   "metadata": {
    "ExecuteTime": {
     "end_time": "2022-09-16T08:47:27.257818Z",
     "start_time": "2022-09-16T08:47:27.251853Z"
    }
   },
   "outputs": [
    {
     "data": {
      "text/plain": [
       "13"
      ]
     },
     "execution_count": 33,
     "metadata": {},
     "output_type": "execute_result"
    }
   ],
   "source": [
    "len(df_by_shot['order_using_tool'].unique())"
   ]
  },
  {
   "cell_type": "markdown",
   "metadata": {},
   "source": [
    "#### 공구 사용 패턴의 정상/오류 판별"
   ]
  },
  {
   "cell_type": "markdown",
   "metadata": {},
   "source": [
    "##### (1) 공구 사용 패턴 : 정상"
   ]
  },
  {
   "cell_type": "code",
   "execution_count": 23,
   "metadata": {
    "ExecuteTime": {
     "end_time": "2022-09-16T08:20:02.857683Z",
     "start_time": "2022-09-16T08:20:02.841001Z"
    }
   },
   "outputs": [
    {
     "data": {
      "text/html": [
       "<div>\n",
       "<style scoped>\n",
       "    .dataframe tbody tr th:only-of-type {\n",
       "        vertical-align: middle;\n",
       "    }\n",
       "\n",
       "    .dataframe tbody tr th {\n",
       "        vertical-align: top;\n",
       "    }\n",
       "\n",
       "    .dataframe thead th {\n",
       "        text-align: right;\n",
       "    }\n",
       "</style>\n",
       "<table border=\"1\" class=\"dataframe\">\n",
       "  <thead>\n",
       "    <tr style=\"text-align: right;\">\n",
       "      <th></th>\n",
       "      <th>shot_no</th>\n",
       "      <th>order_using_tool</th>\n",
       "    </tr>\n",
       "  </thead>\n",
       "  <tbody>\n",
       "    <tr>\n",
       "      <th>7</th>\n",
       "      <td>6217</td>\n",
       "      <td>1 5 9 11 7 3 11 7</td>\n",
       "    </tr>\n",
       "    <tr>\n",
       "      <th>26</th>\n",
       "      <td>6236</td>\n",
       "      <td>1 5 9 11 7 3 11 7</td>\n",
       "    </tr>\n",
       "    <tr>\n",
       "      <th>122</th>\n",
       "      <td>6332</td>\n",
       "      <td>1 5 9 11 7 3 11 7</td>\n",
       "    </tr>\n",
       "    <tr>\n",
       "      <th>147</th>\n",
       "      <td>6357</td>\n",
       "      <td>1 5 9 11 7 3 11 7</td>\n",
       "    </tr>\n",
       "    <tr>\n",
       "      <th>178</th>\n",
       "      <td>6388</td>\n",
       "      <td>1 5 9 11 7 3 11 7</td>\n",
       "    </tr>\n",
       "    <tr>\n",
       "      <th>226</th>\n",
       "      <td>6436</td>\n",
       "      <td>1 5 9 11 7 3 11 7</td>\n",
       "    </tr>\n",
       "    <tr>\n",
       "      <th>247</th>\n",
       "      <td>6457</td>\n",
       "      <td>1 5 9 11 7 3 11 7</td>\n",
       "    </tr>\n",
       "    <tr>\n",
       "      <th>268</th>\n",
       "      <td>6478</td>\n",
       "      <td>1 5 9 11 7 3 11 7</td>\n",
       "    </tr>\n",
       "    <tr>\n",
       "      <th>294</th>\n",
       "      <td>6504</td>\n",
       "      <td>1 5 9 11 7 3 11 7</td>\n",
       "    </tr>\n",
       "  </tbody>\n",
       "</table>\n",
       "</div>"
      ],
      "text/plain": [
       "    shot_no   order_using_tool\n",
       "7      6217  1 5 9 11 7 3 11 7\n",
       "26     6236  1 5 9 11 7 3 11 7\n",
       "122    6332  1 5 9 11 7 3 11 7\n",
       "147    6357  1 5 9 11 7 3 11 7\n",
       "178    6388  1 5 9 11 7 3 11 7\n",
       "226    6436  1 5 9 11 7 3 11 7\n",
       "247    6457  1 5 9 11 7 3 11 7\n",
       "268    6478  1 5 9 11 7 3 11 7\n",
       "294    6504  1 5 9 11 7 3 11 7"
      ]
     },
     "execution_count": 23,
     "metadata": {},
     "output_type": "execute_result"
    }
   ],
   "source": [
    "#(1-1) 정상 가공 패턴(1-5-9-11-7-3-11-7) 1회 수행\n",
    "#---- 정상 여부 : 정상\n",
    "df_by_shot[df_by_shot['order_using_tool'] == '1 5 9 11 7 3 11 7']"
   ]
  },
  {
   "cell_type": "code",
   "execution_count": 21,
   "metadata": {
    "ExecuteTime": {
     "end_time": "2022-09-16T07:16:32.199037Z",
     "start_time": "2022-09-16T07:16:32.183248Z"
    }
   },
   "outputs": [
    {
     "data": {
      "text/html": [
       "<div>\n",
       "<style scoped>\n",
       "    .dataframe tbody tr th:only-of-type {\n",
       "        vertical-align: middle;\n",
       "    }\n",
       "\n",
       "    .dataframe tbody tr th {\n",
       "        vertical-align: top;\n",
       "    }\n",
       "\n",
       "    .dataframe thead th {\n",
       "        text-align: right;\n",
       "    }\n",
       "</style>\n",
       "<table border=\"1\" class=\"dataframe\">\n",
       "  <thead>\n",
       "    <tr style=\"text-align: right;\">\n",
       "      <th></th>\n",
       "      <th>shot_no</th>\n",
       "      <th>order_using_tool</th>\n",
       "    </tr>\n",
       "  </thead>\n",
       "  <tbody>\n",
       "    <tr>\n",
       "      <th>0</th>\n",
       "      <td>6210</td>\n",
       "      <td>7 1 5 9 11 7 3 11 7</td>\n",
       "    </tr>\n",
       "    <tr>\n",
       "      <th>8</th>\n",
       "      <td>6218</td>\n",
       "      <td>7 1 5 9 11 7 3 11 7</td>\n",
       "    </tr>\n",
       "    <tr>\n",
       "      <th>9</th>\n",
       "      <td>6219</td>\n",
       "      <td>7 1 5 9 11 7 3 11 7</td>\n",
       "    </tr>\n",
       "    <tr>\n",
       "      <th>10</th>\n",
       "      <td>6220</td>\n",
       "      <td>7 1 5 9 11 7 3 11 7</td>\n",
       "    </tr>\n",
       "    <tr>\n",
       "      <th>11</th>\n",
       "      <td>6221</td>\n",
       "      <td>7 1 5 9 11 7 3 11 7</td>\n",
       "    </tr>\n",
       "    <tr>\n",
       "      <th>...</th>\n",
       "      <td>...</td>\n",
       "      <td>...</td>\n",
       "    </tr>\n",
       "    <tr>\n",
       "      <th>389</th>\n",
       "      <td>6599</td>\n",
       "      <td>7 1 5 9 11 7 3 11 7</td>\n",
       "    </tr>\n",
       "    <tr>\n",
       "      <th>390</th>\n",
       "      <td>6600</td>\n",
       "      <td>7 1 5 9 11 7 3 11 7</td>\n",
       "    </tr>\n",
       "    <tr>\n",
       "      <th>391</th>\n",
       "      <td>6601</td>\n",
       "      <td>7 1 5 9 11 7 3 11 7</td>\n",
       "    </tr>\n",
       "    <tr>\n",
       "      <th>392</th>\n",
       "      <td>6602</td>\n",
       "      <td>7 1 5 9 11 7 3 11 7</td>\n",
       "    </tr>\n",
       "    <tr>\n",
       "      <th>393</th>\n",
       "      <td>6603</td>\n",
       "      <td>7 1 5 9 11 7 3 11 7</td>\n",
       "    </tr>\n",
       "  </tbody>\n",
       "</table>\n",
       "<p>319 rows × 2 columns</p>\n",
       "</div>"
      ],
      "text/plain": [
       "    shot_no     order_using_tool\n",
       "0      6210  7 1 5 9 11 7 3 11 7\n",
       "8      6218  7 1 5 9 11 7 3 11 7\n",
       "9      6219  7 1 5 9 11 7 3 11 7\n",
       "10     6220  7 1 5 9 11 7 3 11 7\n",
       "11     6221  7 1 5 9 11 7 3 11 7\n",
       "..      ...                  ...\n",
       "389    6599  7 1 5 9 11 7 3 11 7\n",
       "390    6600  7 1 5 9 11 7 3 11 7\n",
       "391    6601  7 1 5 9 11 7 3 11 7\n",
       "392    6602  7 1 5 9 11 7 3 11 7\n",
       "393    6603  7 1 5 9 11 7 3 11 7\n",
       "\n",
       "[319 rows x 2 columns]"
      ]
     },
     "execution_count": 21,
     "metadata": {},
     "output_type": "execute_result"
    }
   ],
   "source": [
    "#(1-2) 맨처음 Tool7 사용한 후 정상 가공 패턴(1-5-9-11-7-3-11-7) 1회 수행\n",
    "#---- 정상 여부 : 정상\n",
    "#---- 처리 방안 : 맨 앞의 Tool7에 해당하는 데이터 삭제 후 사용\n",
    "df_by_shot[df_by_shot['order_using_tool'] == '7 1 5 9 11 7 3 11 7']"
   ]
  },
  {
   "cell_type": "code",
   "execution_count": 27,
   "metadata": {
    "ExecuteTime": {
     "end_time": "2022-09-16T08:42:57.366360Z",
     "start_time": "2022-09-16T08:42:57.352503Z"
    }
   },
   "outputs": [
    {
     "data": {
      "text/html": [
       "<div>\n",
       "<style scoped>\n",
       "    .dataframe tbody tr th:only-of-type {\n",
       "        vertical-align: middle;\n",
       "    }\n",
       "\n",
       "    .dataframe tbody tr th {\n",
       "        vertical-align: top;\n",
       "    }\n",
       "\n",
       "    .dataframe thead th {\n",
       "        text-align: right;\n",
       "    }\n",
       "</style>\n",
       "<table border=\"1\" class=\"dataframe\">\n",
       "  <thead>\n",
       "    <tr style=\"text-align: right;\">\n",
       "      <th></th>\n",
       "      <th>shot_no</th>\n",
       "      <th>order_using_tool</th>\n",
       "    </tr>\n",
       "  </thead>\n",
       "  <tbody>\n",
       "    <tr>\n",
       "      <th>19</th>\n",
       "      <td>6229</td>\n",
       "      <td>7 1 5 9 11 7 3 11 7 1 5 9 11 7 3 11 7</td>\n",
       "    </tr>\n",
       "    <tr>\n",
       "      <th>38</th>\n",
       "      <td>6248</td>\n",
       "      <td>7 1 5 9 11 7 3 11 7 1 5 9 11 7 3 11 7</td>\n",
       "    </tr>\n",
       "    <tr>\n",
       "      <th>51</th>\n",
       "      <td>6261</td>\n",
       "      <td>7 1 5 9 11 7 3 11 7 1 5 9 11 7 3 11 7</td>\n",
       "    </tr>\n",
       "    <tr>\n",
       "      <th>56</th>\n",
       "      <td>6266</td>\n",
       "      <td>7 1 5 9 11 7 3 11 7 1 5 9 11 7 3 11 7</td>\n",
       "    </tr>\n",
       "    <tr>\n",
       "      <th>75</th>\n",
       "      <td>6285</td>\n",
       "      <td>7 1 5 9 11 7 3 11 7 1 5 9 11 7 3 11 7</td>\n",
       "    </tr>\n",
       "    <tr>\n",
       "      <th>84</th>\n",
       "      <td>6294</td>\n",
       "      <td>7 1 5 9 11 7 3 11 7 1 5 9 11 7 3 11 7</td>\n",
       "    </tr>\n",
       "    <tr>\n",
       "      <th>100</th>\n",
       "      <td>6310</td>\n",
       "      <td>7 1 5 9 11 7 3 11 7 1 5 9 11 7 3 11 7</td>\n",
       "    </tr>\n",
       "    <tr>\n",
       "      <th>108</th>\n",
       "      <td>6318</td>\n",
       "      <td>7 1 5 9 11 7 3 11 7 1 5 9 11 7 3 11 7</td>\n",
       "    </tr>\n",
       "    <tr>\n",
       "      <th>163</th>\n",
       "      <td>6373</td>\n",
       "      <td>7 1 5 9 11 7 3 11 7 1 5 9 11 7 3 11 7</td>\n",
       "    </tr>\n",
       "    <tr>\n",
       "      <th>180</th>\n",
       "      <td>6390</td>\n",
       "      <td>7 1 5 9 11 7 3 11 7 1 5 9 11 7 3 11 7</td>\n",
       "    </tr>\n",
       "    <tr>\n",
       "      <th>189</th>\n",
       "      <td>6399</td>\n",
       "      <td>7 1 5 9 11 7 3 11 7 1 5 9 11 7 3 11 7</td>\n",
       "    </tr>\n",
       "    <tr>\n",
       "      <th>203</th>\n",
       "      <td>6413</td>\n",
       "      <td>7 1 5 9 11 7 3 11 7 1 5 9 11 7 3 11 7</td>\n",
       "    </tr>\n",
       "    <tr>\n",
       "      <th>228</th>\n",
       "      <td>6438</td>\n",
       "      <td>7 1 5 9 11 7 3 11 7 1 5 9 11 7 3 11 7</td>\n",
       "    </tr>\n",
       "    <tr>\n",
       "      <th>235</th>\n",
       "      <td>6445</td>\n",
       "      <td>7 1 5 9 11 7 3 11 7 1 5 9 11 7 3 11 7</td>\n",
       "    </tr>\n",
       "    <tr>\n",
       "      <th>251</th>\n",
       "      <td>6461</td>\n",
       "      <td>7 1 5 9 11 7 3 11 7 1 5 9 11 7 3 11 7</td>\n",
       "    </tr>\n",
       "    <tr>\n",
       "      <th>253</th>\n",
       "      <td>6463</td>\n",
       "      <td>7 1 5 9 11 7 3 11 7 1 5 9 11 7 3 11 7</td>\n",
       "    </tr>\n",
       "    <tr>\n",
       "      <th>272</th>\n",
       "      <td>6482</td>\n",
       "      <td>7 1 5 9 11 7 3 11 7 1 5 9 11 7 3 11 7</td>\n",
       "    </tr>\n",
       "    <tr>\n",
       "      <th>273</th>\n",
       "      <td>6483</td>\n",
       "      <td>7 1 5 9 11 7 3 11 7 1 5 9 11 7 3 11 7</td>\n",
       "    </tr>\n",
       "    <tr>\n",
       "      <th>277</th>\n",
       "      <td>6487</td>\n",
       "      <td>7 1 5 9 11 7 3 11 7 1 5 9 11 7 3 11 7</td>\n",
       "    </tr>\n",
       "    <tr>\n",
       "      <th>354</th>\n",
       "      <td>6564</td>\n",
       "      <td>7 1 5 9 11 7 3 11 7 1 5 9 11 7 3 11 7</td>\n",
       "    </tr>\n",
       "    <tr>\n",
       "      <th>355</th>\n",
       "      <td>6565</td>\n",
       "      <td>7 1 5 9 11 7 3 11 7 1 5 9 11 7 3 11 7</td>\n",
       "    </tr>\n",
       "    <tr>\n",
       "      <th>379</th>\n",
       "      <td>6589</td>\n",
       "      <td>7 1 5 9 11 7 3 11 7 1 5 9 11 7 3 11 7</td>\n",
       "    </tr>\n",
       "    <tr>\n",
       "      <th>384</th>\n",
       "      <td>6594</td>\n",
       "      <td>7 1 5 9 11 7 3 11 7 1 5 9 11 7 3 11 7</td>\n",
       "    </tr>\n",
       "    <tr>\n",
       "      <th>385</th>\n",
       "      <td>6595</td>\n",
       "      <td>7 1 5 9 11 7 3 11 7 1 5 9 11 7 3 11 7</td>\n",
       "    </tr>\n",
       "  </tbody>\n",
       "</table>\n",
       "</div>"
      ],
      "text/plain": [
       "    shot_no                       order_using_tool\n",
       "19     6229  7 1 5 9 11 7 3 11 7 1 5 9 11 7 3 11 7\n",
       "38     6248  7 1 5 9 11 7 3 11 7 1 5 9 11 7 3 11 7\n",
       "51     6261  7 1 5 9 11 7 3 11 7 1 5 9 11 7 3 11 7\n",
       "56     6266  7 1 5 9 11 7 3 11 7 1 5 9 11 7 3 11 7\n",
       "75     6285  7 1 5 9 11 7 3 11 7 1 5 9 11 7 3 11 7\n",
       "84     6294  7 1 5 9 11 7 3 11 7 1 5 9 11 7 3 11 7\n",
       "100    6310  7 1 5 9 11 7 3 11 7 1 5 9 11 7 3 11 7\n",
       "108    6318  7 1 5 9 11 7 3 11 7 1 5 9 11 7 3 11 7\n",
       "163    6373  7 1 5 9 11 7 3 11 7 1 5 9 11 7 3 11 7\n",
       "180    6390  7 1 5 9 11 7 3 11 7 1 5 9 11 7 3 11 7\n",
       "189    6399  7 1 5 9 11 7 3 11 7 1 5 9 11 7 3 11 7\n",
       "203    6413  7 1 5 9 11 7 3 11 7 1 5 9 11 7 3 11 7\n",
       "228    6438  7 1 5 9 11 7 3 11 7 1 5 9 11 7 3 11 7\n",
       "235    6445  7 1 5 9 11 7 3 11 7 1 5 9 11 7 3 11 7\n",
       "251    6461  7 1 5 9 11 7 3 11 7 1 5 9 11 7 3 11 7\n",
       "253    6463  7 1 5 9 11 7 3 11 7 1 5 9 11 7 3 11 7\n",
       "272    6482  7 1 5 9 11 7 3 11 7 1 5 9 11 7 3 11 7\n",
       "273    6483  7 1 5 9 11 7 3 11 7 1 5 9 11 7 3 11 7\n",
       "277    6487  7 1 5 9 11 7 3 11 7 1 5 9 11 7 3 11 7\n",
       "354    6564  7 1 5 9 11 7 3 11 7 1 5 9 11 7 3 11 7\n",
       "355    6565  7 1 5 9 11 7 3 11 7 1 5 9 11 7 3 11 7\n",
       "379    6589  7 1 5 9 11 7 3 11 7 1 5 9 11 7 3 11 7\n",
       "384    6594  7 1 5 9 11 7 3 11 7 1 5 9 11 7 3 11 7\n",
       "385    6595  7 1 5 9 11 7 3 11 7 1 5 9 11 7 3 11 7"
      ]
     },
     "execution_count": 27,
     "metadata": {},
     "output_type": "execute_result"
    }
   ],
   "source": [
    "#(1-3) 맨 처음 Tool7 사용 후 정상 가공 패턴(1-5-9-11-7-3-11-7) 2번 반복\n",
    "#---- 정상 여부 : 정상\n",
    "#---- 처리 방안 : 맨 앞의 Tool7에 해당하는 데이터 삭제 후 2개의 shot으로 분리\n",
    "df_by_shot[df_by_shot['order_using_tool'] == '7 1 5 9 11 7 3 11 7 1 5 9 11 7 3 11 7']"
   ]
  },
  {
   "cell_type": "code",
   "execution_count": 40,
   "metadata": {
    "ExecuteTime": {
     "end_time": "2022-09-16T08:59:56.414240Z",
     "start_time": "2022-09-16T08:59:56.404267Z"
    }
   },
   "outputs": [
    {
     "data": {
      "text/html": [
       "<div>\n",
       "<style scoped>\n",
       "    .dataframe tbody tr th:only-of-type {\n",
       "        vertical-align: middle;\n",
       "    }\n",
       "\n",
       "    .dataframe tbody tr th {\n",
       "        vertical-align: top;\n",
       "    }\n",
       "\n",
       "    .dataframe thead th {\n",
       "        text-align: right;\n",
       "    }\n",
       "</style>\n",
       "<table border=\"1\" class=\"dataframe\">\n",
       "  <thead>\n",
       "    <tr style=\"text-align: right;\">\n",
       "      <th></th>\n",
       "      <th>shot_no</th>\n",
       "      <th>order_using_tool</th>\n",
       "    </tr>\n",
       "  </thead>\n",
       "  <tbody>\n",
       "    <tr>\n",
       "      <th>39</th>\n",
       "      <td>6249</td>\n",
       "      <td>7 1 5 9 11 7 3 11 7 1 5 9 11 7 3 11 7 1 5 9 11...</td>\n",
       "    </tr>\n",
       "  </tbody>\n",
       "</table>\n",
       "</div>"
      ],
      "text/plain": [
       "   shot_no                                   order_using_tool\n",
       "39    6249  7 1 5 9 11 7 3 11 7 1 5 9 11 7 3 11 7 1 5 9 11..."
      ]
     },
     "execution_count": 40,
     "metadata": {},
     "output_type": "execute_result"
    }
   ],
   "source": [
    "#(1-4) 맨 처음 Tool7 사용 후 정상 가공 패턴(1-5-9-11-7-3-11-7) 4번 반복\n",
    "#---- 정상 여부 : 정상\n",
    "#---- 처리 방안 : 맨 앞의 Tool7에 해당하는 데이터 삭제 후 4개의 shot으로 분리\n",
    "df_by_shot[df_by_shot['order_using_tool'] == '7 1 5 9 11 7 3 11 7 1 5 9 11 7 3 11 7 1 5 9 11 7 3 11 7 1 5 9 11 7 3 11 7']"
   ]
  },
  {
   "cell_type": "code",
   "execution_count": 41,
   "metadata": {
    "ExecuteTime": {
     "end_time": "2022-09-16T09:00:28.642363Z",
     "start_time": "2022-09-16T09:00:28.633080Z"
    }
   },
   "outputs": [
    {
     "data": {
      "text/html": [
       "<div>\n",
       "<style scoped>\n",
       "    .dataframe tbody tr th:only-of-type {\n",
       "        vertical-align: middle;\n",
       "    }\n",
       "\n",
       "    .dataframe tbody tr th {\n",
       "        vertical-align: top;\n",
       "    }\n",
       "\n",
       "    .dataframe thead th {\n",
       "        text-align: right;\n",
       "    }\n",
       "</style>\n",
       "<table border=\"1\" class=\"dataframe\">\n",
       "  <thead>\n",
       "    <tr style=\"text-align: right;\">\n",
       "      <th></th>\n",
       "      <th>shot_no</th>\n",
       "      <th>order_using_tool</th>\n",
       "    </tr>\n",
       "  </thead>\n",
       "  <tbody>\n",
       "    <tr>\n",
       "      <th>129</th>\n",
       "      <td>6339</td>\n",
       "      <td>7 1 5 9 11 7 3 11 7 1 5 9 11 7 3 11 7 1 5 9 11...</td>\n",
       "    </tr>\n",
       "    <tr>\n",
       "      <th>331</th>\n",
       "      <td>6541</td>\n",
       "      <td>7 1 5 9 11 7 3 11 7 1 5 9 11 7 3 11 7 1 5 9 11...</td>\n",
       "    </tr>\n",
       "  </tbody>\n",
       "</table>\n",
       "</div>"
      ],
      "text/plain": [
       "    shot_no                                   order_using_tool\n",
       "129    6339  7 1 5 9 11 7 3 11 7 1 5 9 11 7 3 11 7 1 5 9 11...\n",
       "331    6541  7 1 5 9 11 7 3 11 7 1 5 9 11 7 3 11 7 1 5 9 11..."
      ]
     },
     "execution_count": 41,
     "metadata": {},
     "output_type": "execute_result"
    }
   ],
   "source": [
    "#(1-5) 맨 처음 Tool7 사용 후 정상 가공 패턴(1-5-9-11-7-3-11-7) 3번 반복\n",
    "#---- 정상 여부 : 정상\n",
    "#---- 처리 방안 : 맨 앞의 Tool7에 해당하는 데이터 삭제 후 3개의 shot으로 분리\n",
    "df_by_shot[df_by_shot['order_using_tool'] == '7 1 5 9 11 7 3 11 7 1 5 9 11 7 3 11 7 1 5 9 11 7 3 11 7']"
   ]
  },
  {
   "cell_type": "code",
   "execution_count": 42,
   "metadata": {
    "ExecuteTime": {
     "end_time": "2022-09-16T09:01:38.547920Z",
     "start_time": "2022-09-16T09:01:38.527342Z"
    }
   },
   "outputs": [
    {
     "data": {
      "text/html": [
       "<div>\n",
       "<style scoped>\n",
       "    .dataframe tbody tr th:only-of-type {\n",
       "        vertical-align: middle;\n",
       "    }\n",
       "\n",
       "    .dataframe tbody tr th {\n",
       "        vertical-align: top;\n",
       "    }\n",
       "\n",
       "    .dataframe thead th {\n",
       "        text-align: right;\n",
       "    }\n",
       "</style>\n",
       "<table border=\"1\" class=\"dataframe\">\n",
       "  <thead>\n",
       "    <tr style=\"text-align: right;\">\n",
       "      <th></th>\n",
       "      <th>shot_no</th>\n",
       "      <th>order_using_tool</th>\n",
       "    </tr>\n",
       "  </thead>\n",
       "  <tbody>\n",
       "    <tr>\n",
       "      <th>307</th>\n",
       "      <td>6517</td>\n",
       "      <td>1 5 9 11 7 3 11 7 1 5 9 11 7 3 11 7 1 5 9 11 7...</td>\n",
       "    </tr>\n",
       "  </tbody>\n",
       "</table>\n",
       "</div>"
      ],
      "text/plain": [
       "    shot_no                                   order_using_tool\n",
       "307    6517  1 5 9 11 7 3 11 7 1 5 9 11 7 3 11 7 1 5 9 11 7..."
      ]
     },
     "execution_count": 42,
     "metadata": {},
     "output_type": "execute_result"
    }
   ],
   "source": [
    "#(1-6) 정상 가공 패턴(1-5-9-11-7-3-11-7) 3번 반복\n",
    "#---- 정상 여부 : 정상\n",
    "#---- 처리 방안 : 3개의 shot으로 분리\n",
    "df_by_shot[df_by_shot['order_using_tool'] == '1 5 9 11 7 3 11 7 1 5 9 11 7 3 11 7 1 5 9 11 7 3 11 7']"
   ]
  },
  {
   "cell_type": "markdown",
   "metadata": {},
   "source": [
    "##### (2) 공구 사용 패턴 : 오류 → 삭제 필요"
   ]
  },
  {
   "cell_type": "code",
   "execution_count": 25,
   "metadata": {
    "ExecuteTime": {
     "end_time": "2022-09-16T08:27:19.914913Z",
     "start_time": "2022-09-16T08:27:19.902903Z"
    }
   },
   "outputs": [
    {
     "data": {
      "text/html": [
       "<div>\n",
       "<style scoped>\n",
       "    .dataframe tbody tr th:only-of-type {\n",
       "        vertical-align: middle;\n",
       "    }\n",
       "\n",
       "    .dataframe tbody tr th {\n",
       "        vertical-align: top;\n",
       "    }\n",
       "\n",
       "    .dataframe thead th {\n",
       "        text-align: right;\n",
       "    }\n",
       "</style>\n",
       "<table border=\"1\" class=\"dataframe\">\n",
       "  <thead>\n",
       "    <tr style=\"text-align: right;\">\n",
       "      <th></th>\n",
       "      <th>shot_no</th>\n",
       "      <th>order_using_tool</th>\n",
       "    </tr>\n",
       "  </thead>\n",
       "  <tbody>\n",
       "    <tr>\n",
       "      <th>1</th>\n",
       "      <td>6211</td>\n",
       "      <td>7</td>\n",
       "    </tr>\n",
       "    <tr>\n",
       "      <th>2</th>\n",
       "      <td>6212</td>\n",
       "      <td>7</td>\n",
       "    </tr>\n",
       "    <tr>\n",
       "      <th>3</th>\n",
       "      <td>6213</td>\n",
       "      <td>7</td>\n",
       "    </tr>\n",
       "    <tr>\n",
       "      <th>50</th>\n",
       "      <td>6260</td>\n",
       "      <td>7</td>\n",
       "    </tr>\n",
       "    <tr>\n",
       "      <th>72</th>\n",
       "      <td>6282</td>\n",
       "      <td>7</td>\n",
       "    </tr>\n",
       "    <tr>\n",
       "      <th>73</th>\n",
       "      <td>6283</td>\n",
       "      <td>7</td>\n",
       "    </tr>\n",
       "    <tr>\n",
       "      <th>98</th>\n",
       "      <td>6308</td>\n",
       "      <td>7</td>\n",
       "    </tr>\n",
       "    <tr>\n",
       "      <th>134</th>\n",
       "      <td>6344</td>\n",
       "      <td>7</td>\n",
       "    </tr>\n",
       "    <tr>\n",
       "      <th>200</th>\n",
       "      <td>6410</td>\n",
       "      <td>7</td>\n",
       "    </tr>\n",
       "    <tr>\n",
       "      <th>201</th>\n",
       "      <td>6411</td>\n",
       "      <td>7</td>\n",
       "    </tr>\n",
       "    <tr>\n",
       "      <th>248</th>\n",
       "      <td>6458</td>\n",
       "      <td>7</td>\n",
       "    </tr>\n",
       "    <tr>\n",
       "      <th>269</th>\n",
       "      <td>6479</td>\n",
       "      <td>7</td>\n",
       "    </tr>\n",
       "    <tr>\n",
       "      <th>270</th>\n",
       "      <td>6480</td>\n",
       "      <td>7</td>\n",
       "    </tr>\n",
       "    <tr>\n",
       "      <th>353</th>\n",
       "      <td>6563</td>\n",
       "      <td>7</td>\n",
       "    </tr>\n",
       "    <tr>\n",
       "      <th>375</th>\n",
       "      <td>6585</td>\n",
       "      <td>7</td>\n",
       "    </tr>\n",
       "  </tbody>\n",
       "</table>\n",
       "</div>"
      ],
      "text/plain": [
       "    shot_no order_using_tool\n",
       "1      6211                7\n",
       "2      6212                7\n",
       "3      6213                7\n",
       "50     6260                7\n",
       "72     6282                7\n",
       "73     6283                7\n",
       "98     6308                7\n",
       "134    6344                7\n",
       "200    6410                7\n",
       "201    6411                7\n",
       "248    6458                7\n",
       "269    6479                7\n",
       "270    6480                7\n",
       "353    6563                7\n",
       "375    6585                7"
      ]
     },
     "execution_count": 25,
     "metadata": {},
     "output_type": "execute_result"
    }
   ],
   "source": [
    "#(2-1) Tool7만 사용\n",
    "#---- 정상 여부 : 오류\n",
    "#---- 처리 방안 : 삭제\n",
    "df_by_shot[df_by_shot['order_using_tool'] == '7']"
   ]
  },
  {
   "cell_type": "code",
   "execution_count": 35,
   "metadata": {
    "ExecuteTime": {
     "end_time": "2022-09-16T08:53:10.624129Z",
     "start_time": "2022-09-16T08:53:10.604128Z"
    }
   },
   "outputs": [
    {
     "data": {
      "text/html": [
       "<div>\n",
       "<style scoped>\n",
       "    .dataframe tbody tr th:only-of-type {\n",
       "        vertical-align: middle;\n",
       "    }\n",
       "\n",
       "    .dataframe tbody tr th {\n",
       "        vertical-align: top;\n",
       "    }\n",
       "\n",
       "    .dataframe thead th {\n",
       "        text-align: right;\n",
       "    }\n",
       "</style>\n",
       "<table border=\"1\" class=\"dataframe\">\n",
       "  <thead>\n",
       "    <tr style=\"text-align: right;\">\n",
       "      <th></th>\n",
       "      <th>shot_no</th>\n",
       "      <th>order_using_tool</th>\n",
       "    </tr>\n",
       "  </thead>\n",
       "  <tbody>\n",
       "    <tr>\n",
       "      <th>5</th>\n",
       "      <td>6215</td>\n",
       "      <td>1</td>\n",
       "    </tr>\n",
       "    <tr>\n",
       "      <th>6</th>\n",
       "      <td>6216</td>\n",
       "      <td>1</td>\n",
       "    </tr>\n",
       "    <tr>\n",
       "      <th>24</th>\n",
       "      <td>6234</td>\n",
       "      <td>1</td>\n",
       "    </tr>\n",
       "    <tr>\n",
       "      <th>25</th>\n",
       "      <td>6235</td>\n",
       "      <td>1</td>\n",
       "    </tr>\n",
       "    <tr>\n",
       "      <th>145</th>\n",
       "      <td>6355</td>\n",
       "      <td>1</td>\n",
       "    </tr>\n",
       "    <tr>\n",
       "      <th>146</th>\n",
       "      <td>6356</td>\n",
       "      <td>1</td>\n",
       "    </tr>\n",
       "    <tr>\n",
       "      <th>225</th>\n",
       "      <td>6435</td>\n",
       "      <td>1</td>\n",
       "    </tr>\n",
       "    <tr>\n",
       "      <th>293</th>\n",
       "      <td>6503</td>\n",
       "      <td>1</td>\n",
       "    </tr>\n",
       "    <tr>\n",
       "      <th>306</th>\n",
       "      <td>6516</td>\n",
       "      <td>1</td>\n",
       "    </tr>\n",
       "  </tbody>\n",
       "</table>\n",
       "</div>"
      ],
      "text/plain": [
       "    shot_no order_using_tool\n",
       "5      6215                1\n",
       "6      6216                1\n",
       "24     6234                1\n",
       "25     6235                1\n",
       "145    6355                1\n",
       "146    6356                1\n",
       "225    6435                1\n",
       "293    6503                1\n",
       "306    6516                1"
      ]
     },
     "execution_count": 35,
     "metadata": {},
     "output_type": "execute_result"
    }
   ],
   "source": [
    "#(2-2) Tool1만 사용\n",
    "#---- 정상 여부 : 오류\n",
    "#---- 처리 방안 : 삭제\n",
    "df_by_shot[df_by_shot['order_using_tool'] == '1']"
   ]
  },
  {
   "cell_type": "code",
   "execution_count": 34,
   "metadata": {
    "ExecuteTime": {
     "end_time": "2022-09-16T08:52:46.702583Z",
     "start_time": "2022-09-16T08:52:46.679552Z"
    }
   },
   "outputs": [
    {
     "data": {
      "text/html": [
       "<div>\n",
       "<style scoped>\n",
       "    .dataframe tbody tr th:only-of-type {\n",
       "        vertical-align: middle;\n",
       "    }\n",
       "\n",
       "    .dataframe tbody tr th {\n",
       "        vertical-align: top;\n",
       "    }\n",
       "\n",
       "    .dataframe thead th {\n",
       "        text-align: right;\n",
       "    }\n",
       "</style>\n",
       "<table border=\"1\" class=\"dataframe\">\n",
       "  <thead>\n",
       "    <tr style=\"text-align: right;\">\n",
       "      <th></th>\n",
       "      <th>shot_no</th>\n",
       "      <th>order_using_tool</th>\n",
       "    </tr>\n",
       "  </thead>\n",
       "  <tbody>\n",
       "    <tr>\n",
       "      <th>4</th>\n",
       "      <td>6214</td>\n",
       "      <td>7 1</td>\n",
       "    </tr>\n",
       "    <tr>\n",
       "      <th>23</th>\n",
       "      <td>6233</td>\n",
       "      <td>7 1</td>\n",
       "    </tr>\n",
       "    <tr>\n",
       "      <th>121</th>\n",
       "      <td>6331</td>\n",
       "      <td>7 1</td>\n",
       "    </tr>\n",
       "    <tr>\n",
       "      <th>144</th>\n",
       "      <td>6354</td>\n",
       "      <td>7 1</td>\n",
       "    </tr>\n",
       "    <tr>\n",
       "      <th>177</th>\n",
       "      <td>6387</td>\n",
       "      <td>7 1</td>\n",
       "    </tr>\n",
       "    <tr>\n",
       "      <th>224</th>\n",
       "      <td>6434</td>\n",
       "      <td>7 1</td>\n",
       "    </tr>\n",
       "    <tr>\n",
       "      <th>246</th>\n",
       "      <td>6456</td>\n",
       "      <td>7 1</td>\n",
       "    </tr>\n",
       "    <tr>\n",
       "      <th>267</th>\n",
       "      <td>6477</td>\n",
       "      <td>7 1</td>\n",
       "    </tr>\n",
       "    <tr>\n",
       "      <th>292</th>\n",
       "      <td>6502</td>\n",
       "      <td>7 1</td>\n",
       "    </tr>\n",
       "    <tr>\n",
       "      <th>305</th>\n",
       "      <td>6515</td>\n",
       "      <td>7 1</td>\n",
       "    </tr>\n",
       "    <tr>\n",
       "      <th>394</th>\n",
       "      <td>6604</td>\n",
       "      <td>7 1</td>\n",
       "    </tr>\n",
       "  </tbody>\n",
       "</table>\n",
       "</div>"
      ],
      "text/plain": [
       "    shot_no order_using_tool\n",
       "4      6214              7 1\n",
       "23     6233              7 1\n",
       "121    6331              7 1\n",
       "144    6354              7 1\n",
       "177    6387              7 1\n",
       "224    6434              7 1\n",
       "246    6456              7 1\n",
       "267    6477              7 1\n",
       "292    6502              7 1\n",
       "305    6515              7 1\n",
       "394    6604              7 1"
      ]
     },
     "execution_count": 34,
     "metadata": {},
     "output_type": "execute_result"
    }
   ],
   "source": [
    "#(2-3) 7-1 순으로 사용\n",
    "#---- 정상 여부 : 오류\n",
    "#---- 처리 방안 : 삭제\n",
    "df_by_shot[df_by_shot['order_using_tool'] == '7 1']"
   ]
  },
  {
   "cell_type": "code",
   "execution_count": 38,
   "metadata": {
    "ExecuteTime": {
     "end_time": "2022-09-16T08:58:37.811265Z",
     "start_time": "2022-09-16T08:58:37.793742Z"
    }
   },
   "outputs": [
    {
     "data": {
      "text/html": [
       "<div>\n",
       "<style scoped>\n",
       "    .dataframe tbody tr th:only-of-type {\n",
       "        vertical-align: middle;\n",
       "    }\n",
       "\n",
       "    .dataframe tbody tr th {\n",
       "        vertical-align: top;\n",
       "    }\n",
       "\n",
       "    .dataframe thead th {\n",
       "        text-align: right;\n",
       "    }\n",
       "</style>\n",
       "<table border=\"1\" class=\"dataframe\">\n",
       "  <thead>\n",
       "    <tr style=\"text-align: right;\">\n",
       "      <th></th>\n",
       "      <th>shot_no</th>\n",
       "      <th>order_using_tool</th>\n",
       "    </tr>\n",
       "  </thead>\n",
       "  <tbody>\n",
       "    <tr>\n",
       "      <th>35</th>\n",
       "      <td>6245</td>\n",
       "      <td>7 1 5 9 11 7 1 3 11 7</td>\n",
       "    </tr>\n",
       "  </tbody>\n",
       "</table>\n",
       "</div>"
      ],
      "text/plain": [
       "   shot_no       order_using_tool\n",
       "35    6245  7 1 5 9 11 7 1 3 11 7"
      ]
     },
     "execution_count": 38,
     "metadata": {},
     "output_type": "execute_result"
    }
   ],
   "source": [
    "#(2-4) 정상 가공 패턴(1-5-9-11-7-3-11-7) 없음\n",
    "#---- 정상 여부 : 오류\n",
    "#---- 처리 방안 : 삭제\n",
    "df_by_shot[df_by_shot['order_using_tool'] == '7 1 5 9 11 7 1 3 11 7']"
   ]
  },
  {
   "cell_type": "markdown",
   "metadata": {},
   "source": [
    "##### (3) 공구 사용 패턴 : 오류 → 처리 방안 검토 필요"
   ]
  },
  {
   "cell_type": "code",
   "execution_count": 26,
   "metadata": {
    "ExecuteTime": {
     "end_time": "2022-09-16T08:28:20.691772Z",
     "start_time": "2022-09-16T08:28:20.670797Z"
    }
   },
   "outputs": [
    {
     "data": {
      "text/html": [
       "<div>\n",
       "<style scoped>\n",
       "    .dataframe tbody tr th:only-of-type {\n",
       "        vertical-align: middle;\n",
       "    }\n",
       "\n",
       "    .dataframe tbody tr th {\n",
       "        vertical-align: top;\n",
       "    }\n",
       "\n",
       "    .dataframe thead th {\n",
       "        text-align: right;\n",
       "    }\n",
       "</style>\n",
       "<table border=\"1\" class=\"dataframe\">\n",
       "  <thead>\n",
       "    <tr style=\"text-align: right;\">\n",
       "      <th></th>\n",
       "      <th>shot_no</th>\n",
       "      <th>order_using_tool</th>\n",
       "    </tr>\n",
       "  </thead>\n",
       "  <tbody>\n",
       "    <tr>\n",
       "      <th>15</th>\n",
       "      <td>6225</td>\n",
       "      <td>7 1 5 9 1 5 9 11 7 3 11 7</td>\n",
       "    </tr>\n",
       "  </tbody>\n",
       "</table>\n",
       "</div>"
      ],
      "text/plain": [
       "   shot_no           order_using_tool\n",
       "15    6225  7 1 5 9 1 5 9 11 7 3 11 7"
      ]
     },
     "execution_count": 26,
     "metadata": {},
     "output_type": "execute_result"
    }
   ],
   "source": [
    "#(3-1) 7-1-5-9 순으로 공구 사용 한 후 정상 가공 패턴(1-5-9-11-7-3-11-7)\n",
    "#---- 정상 여부 : ★검토필요★\n",
    "#---- 처리 방안 : ★검토필요★\n",
    "df_by_shot[df_by_shot['order_using_tool'] == '7 1 5 9 1 5 9 11 7 3 11 7']"
   ]
  },
  {
   "cell_type": "code",
   "execution_count": 36,
   "metadata": {
    "ExecuteTime": {
     "end_time": "2022-09-16T08:56:55.440958Z",
     "start_time": "2022-09-16T08:56:55.422003Z"
    }
   },
   "outputs": [
    {
     "data": {
      "text/html": [
       "<div>\n",
       "<style scoped>\n",
       "    .dataframe tbody tr th:only-of-type {\n",
       "        vertical-align: middle;\n",
       "    }\n",
       "\n",
       "    .dataframe tbody tr th {\n",
       "        vertical-align: top;\n",
       "    }\n",
       "\n",
       "    .dataframe thead th {\n",
       "        text-align: right;\n",
       "    }\n",
       "</style>\n",
       "<table border=\"1\" class=\"dataframe\">\n",
       "  <thead>\n",
       "    <tr style=\"text-align: right;\">\n",
       "      <th></th>\n",
       "      <th>shot_no</th>\n",
       "      <th>order_using_tool</th>\n",
       "    </tr>\n",
       "  </thead>\n",
       "  <tbody>\n",
       "    <tr>\n",
       "      <th>16</th>\n",
       "      <td>6226</td>\n",
       "      <td>7 1 5 7 11 1 5 9 11 7 3 11 7</td>\n",
       "    </tr>\n",
       "  </tbody>\n",
       "</table>\n",
       "</div>"
      ],
      "text/plain": [
       "   shot_no              order_using_tool\n",
       "16    6226  7 1 5 7 11 1 5 9 11 7 3 11 7"
      ]
     },
     "execution_count": 36,
     "metadata": {},
     "output_type": "execute_result"
    }
   ],
   "source": [
    "#(3-2) 7-1-5-7-11 순으로 공구 사용 한 후 정상 가공 패턴(1-5-9-11-7-3-11-7)\n",
    "#---- 정상 여부 : ★검토필요★\n",
    "#---- 처리 방안 : ★검토필요★\n",
    "df_by_shot[df_by_shot['order_using_tool'] == '7 1 5 7 11 1 5 9 11 7 3 11 7']"
   ]
  },
  {
   "cell_type": "code",
   "execution_count": 42,
   "metadata": {
    "ExecuteTime": {
     "end_time": "2022-09-16T09:01:38.547920Z",
     "start_time": "2022-09-16T09:01:38.527342Z"
    }
   },
   "outputs": [
    {
     "data": {
      "text/html": [
       "<div>\n",
       "<style scoped>\n",
       "    .dataframe tbody tr th:only-of-type {\n",
       "        vertical-align: middle;\n",
       "    }\n",
       "\n",
       "    .dataframe tbody tr th {\n",
       "        vertical-align: top;\n",
       "    }\n",
       "\n",
       "    .dataframe thead th {\n",
       "        text-align: right;\n",
       "    }\n",
       "</style>\n",
       "<table border=\"1\" class=\"dataframe\">\n",
       "  <thead>\n",
       "    <tr style=\"text-align: right;\">\n",
       "      <th></th>\n",
       "      <th>shot_no</th>\n",
       "      <th>order_using_tool</th>\n",
       "    </tr>\n",
       "  </thead>\n",
       "  <tbody>\n",
       "    <tr>\n",
       "      <th>307</th>\n",
       "      <td>6517</td>\n",
       "      <td>1 5 9 11 7 3 11 7 1 5 9 11 7 3 11 7 1 5 9 11 7...</td>\n",
       "    </tr>\n",
       "  </tbody>\n",
       "</table>\n",
       "</div>"
      ],
      "text/plain": [
       "    shot_no                                   order_using_tool\n",
       "307    6517  1 5 9 11 7 3 11 7 1 5 9 11 7 3 11 7 1 5 9 11 7..."
      ]
     },
     "execution_count": 42,
     "metadata": {},
     "output_type": "execute_result"
    }
   ],
   "source": [
    "#(3-3) 7-1-7 순으로 공구 사용 한 후 정상 가공 패턴(1-5-9-11-7-3-11-7)\n",
    "#---- 정상 여부 : ★검토필요★\n",
    "#---- 처리 방안 : ★검토필요★\n",
    "df_by_shot[df_by_shot['order_using_tool'] == '7 1 7 1 5 9 11 7 3 11 7']"
   ]
  },
  {
   "cell_type": "code",
   "execution_count": null,
   "metadata": {},
   "outputs": [],
   "source": []
  }
 ],
 "metadata": {
  "kernelspec": {
   "display_name": "Python 3 (ipykernel)",
   "language": "python",
   "name": "python3"
  },
  "language_info": {
   "codemirror_mode": {
    "name": "ipython",
    "version": 3
   },
   "file_extension": ".py",
   "mimetype": "text/x-python",
   "name": "python",
   "nbconvert_exporter": "python",
   "pygments_lexer": "ipython3",
   "version": "3.9.7"
  },
  "toc": {
   "base_numbering": 1,
   "nav_menu": {},
   "number_sections": true,
   "sideBar": true,
   "skip_h1_title": false,
   "title_cell": "Table of Contents",
   "title_sidebar": "Contents",
   "toc_cell": false,
   "toc_position": {},
   "toc_section_display": true,
   "toc_window_display": false
  }
 },
 "nbformat": 4,
 "nbformat_minor": 4
}
